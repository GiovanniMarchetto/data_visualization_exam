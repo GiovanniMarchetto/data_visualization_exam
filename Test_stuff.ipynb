{
 "cells": [
  {
   "cell_type": "markdown",
   "source": [
    "# DV stuff"
   ],
   "metadata": {}
  },
  {
   "cell_type": "code",
   "execution_count": null,
   "source": [
    "import pandas as pd\r\n",
    "import plotly.graph_objs as go\r\n",
    "import plotly.express as px\r\n",
    "import numpy as np"
   ],
   "outputs": [],
   "metadata": {}
  },
  {
   "cell_type": "code",
   "execution_count": null,
   "source": [
    "# from zipfile import ZipFile\r\n",
    "# import shutil\r\n",
    "\r\n",
    "# fileName = dataFolderName+'/mini_DCSC_RACLI_31082021204439489.csv'\r\n",
    "# with ZipFile(fileName+'.zip','r') as zf_in:\r\n",
    "#     zf_in.printdir()\r\n",
    "#     print('Extracting all the files now...')\r\n",
    "#     zf_in.extractall(dataFolderName)\r\n",
    "#     print('Done!')"
   ],
   "outputs": [],
   "metadata": {}
  },
  {
   "cell_type": "code",
   "execution_count": null,
   "source": [
    "# Drop function\r\n",
    "    # drop command\r\n",
    "    # axis=1 -> columns\r\n",
    "    # axis=0 -> rows"
   ],
   "outputs": [],
   "metadata": {}
  },
  {
   "cell_type": "code",
   "execution_count": null,
   "source": [
    "d = {}\r\n",
    "for i in range(3):\r\n",
    "    a = 2014+i\r\n",
    "    d[\"group\" + str(i)] = a\r\n",
    "print(a)\r\n",
    "print(d)"
   ],
   "outputs": [],
   "metadata": {}
  },
  {
   "cell_type": "code",
   "execution_count": null,
   "source": [
    "# import pandas as pd\r\n",
    "# # join for connect ITTER107 to SIGLA\r\n",
    "# csv_prov = pd.DataFrame(columns=['sigla','codice'])\r\n",
    "\r\n",
    "# fileName = \"province_statistical_codes/Codici-statistici-e-denominazioni-al-01_01_201\"\r\n",
    "# for anno in (4,5,6,7):\r\n",
    "#     temp = pd.read_csv(\"data/\"+fileName + str(anno)+'.csv',sep=';',encoding='ANSI', na_filter=False)\r\n",
    "#     temp = temp[['Sigla automobilistica',temp.columns[-1]]].drop_duplicates()\r\n",
    "#     temp = temp.rename(columns={temp.columns[0]:csv_prov.columns[0],temp.columns[1]:csv_prov.columns[1]})\r\n",
    "#     csv_prov = csv_prov.append(temp).drop_duplicates()\r\n",
    "\r\n",
    "# # csv_prov.query('codice==\"IT108\"')\r\n",
    "# # csv_prov.query('sigla==\"NA\"')\r\n",
    "# # csv_prov.reset_index(drop=True)#.sort_values(by='sigla')\r\n",
    "# # csv_prov[csv_prov.isnull().any(axis=1)].drop_duplicates()\r\n",
    "# csv_prov.append({'sigla':'MB','codice':'IT108'},ignore_index=True)\r\n",
    "# # map_df.query('SIGLA==\"MB\"')\r\n",
    "\r\n",
    "# # merged1 = df_sex_province_year[\"group2015\"].join(csv_prov.set_index(csv_prov.columns[-1]))\r\n",
    "# # merged1.sort_values(by='sigla')#query('Territorio==\"Fermo\"')\r\n",
    "# # merged1[merged1.isnull().any(axis=1)].drop_duplicates()"
   ],
   "outputs": [],
   "metadata": {}
  },
  {
   "cell_type": "code",
   "execution_count": null,
   "source": [
    "f\"map_{3}\""
   ],
   "outputs": [],
   "metadata": {}
  },
  {
   "cell_type": "code",
   "execution_count": null,
   "source": [
    "import plotly.graph_objects as go\r\n",
    "from ipywidgets import interact\r\n",
    "\r\n",
    "fig = go.FigureWidget()\r\n",
    "bar = fig.add_bar(x=['x', '1-x'])\r\n",
    "fig.layout = dict(yaxis=dict(range=[0,1]), height=600)\r\n",
    "\r\n",
    "@interact(x=(0, 1, 0.01))\r\n",
    "def update(x=0.3):  # start value\r\n",
    "    with fig.batch_update():\r\n",
    "        fig.data[0].y=[x, 1-x]\r\n",
    "fig"
   ],
   "outputs": [],
   "metadata": {}
  }
 ],
 "metadata": {
  "kernelspec": {
   "name": "python3",
   "display_name": "Python 3.9.7 64-bit (windows store)"
  },
  "language_info": {
   "codemirror_mode": {
    "name": "ipython",
    "version": 3
   },
   "file_extension": ".py",
   "mimetype": "text/x-python",
   "name": "python",
   "nbconvert_exporter": "python",
   "pygments_lexer": "ipython3",
   "version": "3.9.7"
  },
  "interpreter": {
   "hash": "0a7bcdce5e7de3fa1d95f97898f0ba64b04cd3f3c86a5acc783c9d14c07e9707"
  }
 },
 "nbformat": 4,
 "nbformat_minor": 4
}