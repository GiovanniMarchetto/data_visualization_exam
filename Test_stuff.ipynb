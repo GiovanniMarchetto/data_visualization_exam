{
 "cells": [
  {
   "cell_type": "markdown",
   "source": [
    "# DV stuff"
   ],
   "metadata": {}
  },
  {
   "cell_type": "code",
   "execution_count": 1,
   "source": [
    "import pandas as pd\r\n",
    "import plotly.graph_objs as go\r\n",
    "import plotly.express as px\r\n",
    "import numpy as np"
   ],
   "outputs": [],
   "metadata": {}
  },
  {
   "cell_type": "code",
   "execution_count": null,
   "source": [
    "from zipfile import ZipFile\r\n",
    "import shutil\r\n",
    "\r\n",
    "fileName = dataFolderName+'/mini_DCSC_RACLI_31082021204439489.csv'\r\n",
    "with ZipFile(fileName+'.zip','r') as zf_in:\r\n",
    "    zf_in.printdir()\r\n",
    "    print('Extracting all the files now...')\r\n",
    "    zf_in.extractall(dataFolderName)\r\n",
    "    print('Done!')"
   ],
   "outputs": [],
   "metadata": {}
  },
  {
   "cell_type": "code",
   "execution_count": null,
   "source": [
    "# Drop function\r\n",
    "    # drop command\r\n",
    "    # axis=1 -> columns\r\n",
    "    # axis=0 -> rows"
   ],
   "outputs": [],
   "metadata": {}
  },
  {
   "cell_type": "code",
   "execution_count": 7,
   "source": [
    "d = {}\r\n",
    "for i in range(3):\r\n",
    "    a = 2014+i\r\n",
    "    d[\"group\" + str(i)] = a\r\n",
    "print(a)\r\n",
    "print(d)"
   ],
   "outputs": [
    {
     "output_type": "stream",
     "name": "stdout",
     "text": [
      "2016\n",
      "{'group0': 2014, 'group1': 2015, 'group2': 2016}\n"
     ]
    }
   ],
   "metadata": {}
  },
  {
   "cell_type": "code",
   "execution_count": 3,
   "source": [
    "import pandas as pd\r\n",
    "# join for connect ITTER107 to SIGLA\r\n",
    "csv_prov = pd.DataFrame(columns=['sigla','codice'])\r\n",
    "\r\n",
    "fileName = \"province_statistical_codes/Codici-statistici-e-denominazioni-al-01_01_201\"\r\n",
    "for anno in (4,5,6,7):\r\n",
    "    temp = pd.read_csv(\"data/\"+fileName + str(anno)+'.csv',sep=';',encoding='ANSI', na_filter=False)\r\n",
    "    temp = temp[['Sigla automobilistica',temp.columns[-1]]].drop_duplicates()\r\n",
    "    temp = temp.rename(columns={temp.columns[0]:csv_prov.columns[0],temp.columns[1]:csv_prov.columns[1]})\r\n",
    "    csv_prov = csv_prov.append(temp).drop_duplicates()\r\n",
    "\r\n",
    "# csv_prov.query('codice==\"IT108\"')\r\n",
    "# csv_prov.query('sigla==\"NA\"')\r\n",
    "# csv_prov.reset_index(drop=True)#.sort_values(by='sigla')\r\n",
    "# csv_prov[csv_prov.isnull().any(axis=1)].drop_duplicates()\r\n",
    "csv_prov.append({'sigla':'MB','codice':'IT108'},ignore_index=True)\r\n",
    "# map_df.query('SIGLA==\"MB\"')\r\n",
    "\r\n",
    "# merged1 = df_sex_province_year[\"group2015\"].join(csv_prov.set_index(csv_prov.columns[-1]))\r\n",
    "# merged1.sort_values(by='sigla')#query('Territorio==\"Fermo\"')\r\n",
    "# merged1[merged1.isnull().any(axis=1)].drop_duplicates()"
   ],
   "outputs": [
    {
     "output_type": "execute_result",
     "data": {
      "text/html": [
       "<div>\n",
       "<style scoped>\n",
       "    .dataframe tbody tr th:only-of-type {\n",
       "        vertical-align: middle;\n",
       "    }\n",
       "\n",
       "    .dataframe tbody tr th {\n",
       "        vertical-align: top;\n",
       "    }\n",
       "\n",
       "    .dataframe thead th {\n",
       "        text-align: right;\n",
       "    }\n",
       "</style>\n",
       "<table border=\"1\" class=\"dataframe\">\n",
       "  <thead>\n",
       "    <tr style=\"text-align: right;\">\n",
       "      <th></th>\n",
       "      <th>sigla</th>\n",
       "      <th>codice</th>\n",
       "    </tr>\n",
       "  </thead>\n",
       "  <tbody>\n",
       "    <tr>\n",
       "      <th>0</th>\n",
       "      <td>TO</td>\n",
       "      <td>ITC11</td>\n",
       "    </tr>\n",
       "    <tr>\n",
       "      <th>1</th>\n",
       "      <td>VC</td>\n",
       "      <td>ITC12</td>\n",
       "    </tr>\n",
       "    <tr>\n",
       "      <th>2</th>\n",
       "      <td>NO</td>\n",
       "      <td>ITC15</td>\n",
       "    </tr>\n",
       "    <tr>\n",
       "      <th>3</th>\n",
       "      <td>CN</td>\n",
       "      <td>ITC16</td>\n",
       "    </tr>\n",
       "    <tr>\n",
       "      <th>4</th>\n",
       "      <td>AT</td>\n",
       "      <td>ITC17</td>\n",
       "    </tr>\n",
       "    <tr>\n",
       "      <th>...</th>\n",
       "      <td>...</td>\n",
       "      <td>...</td>\n",
       "    </tr>\n",
       "    <tr>\n",
       "      <th>164</th>\n",
       "      <td>SU</td>\n",
       "      <td>ITG27</td>\n",
       "    </tr>\n",
       "    <tr>\n",
       "      <th>165</th>\n",
       "      <td>SU</td>\n",
       "      <td>ITG2C</td>\n",
       "    </tr>\n",
       "    <tr>\n",
       "      <th>166</th>\n",
       "      <td>SU</td>\n",
       "      <td>ITG28</td>\n",
       "    </tr>\n",
       "    <tr>\n",
       "      <th>167</th>\n",
       "      <td>SU</td>\n",
       "      <td>ITG2A</td>\n",
       "    </tr>\n",
       "    <tr>\n",
       "      <th>168</th>\n",
       "      <td>MB</td>\n",
       "      <td>IT108</td>\n",
       "    </tr>\n",
       "  </tbody>\n",
       "</table>\n",
       "<p>169 rows × 2 columns</p>\n",
       "</div>"
      ],
      "text/plain": [
       "    sigla codice\n",
       "0      TO  ITC11\n",
       "1      VC  ITC12\n",
       "2      NO  ITC15\n",
       "3      CN  ITC16\n",
       "4      AT  ITC17\n",
       "..    ...    ...\n",
       "164    SU  ITG27\n",
       "165    SU  ITG2C\n",
       "166    SU  ITG28\n",
       "167    SU  ITG2A\n",
       "168    MB  IT108\n",
       "\n",
       "[169 rows x 2 columns]"
      ]
     },
     "metadata": {},
     "execution_count": 3
    }
   ],
   "metadata": {}
  },
  {
   "cell_type": "code",
   "execution_count": 10,
   "source": [
    "f\"map_{3}\""
   ],
   "outputs": [
    {
     "output_type": "execute_result",
     "data": {
      "text/plain": [
       "'map_{3}'"
      ]
     },
     "metadata": {},
     "execution_count": 10
    }
   ],
   "metadata": {}
  }
 ],
 "metadata": {
  "kernelspec": {
   "name": "python3",
   "display_name": "Python 3.9.6 64-bit (windows store)"
  },
  "language_info": {
   "codemirror_mode": {
    "name": "ipython",
    "version": 3
   },
   "file_extension": ".py",
   "mimetype": "text/x-python",
   "name": "python",
   "nbconvert_exporter": "python",
   "pygments_lexer": "ipython3",
   "version": "3.9.6"
  },
  "interpreter": {
   "hash": "0a7bcdce5e7de3fa1d95f97898f0ba64b04cd3f3c86a5acc783c9d14c07e9707"
  }
 },
 "nbformat": 4,
 "nbformat_minor": 4
}