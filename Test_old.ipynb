{
 "cells": [
  {
   "cell_type": "markdown",
   "source": [
    "# Test"
   ],
   "metadata": {}
  },
  {
   "cell_type": "code",
   "execution_count": null,
   "source": [
    "import pandas as pd\r\n",
    "import plotly.graph_objs as go\r\n",
    "import plotly.express as px\r\n",
    "\r\n",
    "import gzip\r\n",
    "import shutil"
   ],
   "outputs": [],
   "metadata": {}
  },
  {
   "cell_type": "markdown",
   "source": [
    "## Data acquisition\r\n",
    "CSV file creation from raw data and loading the CSV file into the program."
   ],
   "metadata": {}
  },
  {
   "cell_type": "code",
   "execution_count": null,
   "source": [
    "fileName = 'data/road_eqr_carpda'\r\n",
    "with gzip.open(fileName+'.tsv.gz', 'rt') as f_in:\r\n",
    "    s = f_in.read().replace('geo\\\\time','geo').replace('\\t',',').replace(' ','')    #conversion to csv\r\n",
    "    with open(fileName+'.csv', 'wt') as f_out:   # save to csv\r\n",
    "        f_out.write(s)\r\n",
    "        df = pd.read_csv(f_out.name)                  # load data from CSV to program\r\n",
    "\r\n",
    "df.head() # data loaded"
   ],
   "outputs": [],
   "metadata": {}
  },
  {
   "cell_type": "markdown",
   "source": [
    "## Data parsing"
   ],
   "metadata": {}
  },
  {
   "cell_type": "code",
   "execution_count": null,
   "source": [
    "# Reorder columns chronologically\r\n",
    "cols = df.columns.tolist()\r\n",
    "cols = cols[0:3] + cols[:2:-1]\r\n",
    "df = df[cols]\r\n",
    "del cols\r\n",
    "\r\n",
    "df.head()"
   ],
   "outputs": [],
   "metadata": {}
  },
  {
   "cell_type": "code",
   "execution_count": null,
   "source": [
    "# Transform the data\r\n",
    "\r\n",
    "# Get country names and geo-coordinates\r\n",
    "geoDf = pd.read_csv(\"data/countriesByGoogle.tsv\", sep=\"\\t\")\r\n",
    "df = pd.merge(df, geoDf, left_on='geo', right_on='country')\r\n",
    "del geoDf\r\n",
    "\r\n",
    "cols = df.columns.tolist()\r\n",
    "df = df[cols[0:3]+cols[:-4:-1]+cols[4:-4]]\r\n",
    "del cols\r\n",
    "\r\n",
    "df.head()\r\n",
    "\r\n",
    "# TODO: check for errors in data, change type (?) and choose the level for hierachical data"
   ],
   "outputs": [],
   "metadata": {}
  },
  {
   "cell_type": "markdown",
   "source": [
    "## Data filtering"
   ],
   "metadata": {}
  },
  {
   "cell_type": "code",
   "execution_count": null,
   "source": [
    "# TODO: decide what to do with missing data"
   ],
   "outputs": [],
   "metadata": {}
  }
 ],
 "metadata": {
  "kernelspec": {
   "name": "python3",
   "display_name": "Python 3.9.5 64-bit"
  },
  "language_info": {
   "codemirror_mode": {
    "name": "ipython",
    "version": 3
   },
   "file_extension": ".py",
   "mimetype": "text/x-python",
   "name": "python",
   "nbconvert_exporter": "python",
   "pygments_lexer": "ipython3",
   "version": "3.9.5"
  },
  "interpreter": {
   "hash": "d961aabb6c4ec2b91ffb92635a21c6aac8ab666950951648c46beeee9d11fafd"
  }
 },
 "nbformat": 4,
 "nbformat_minor": 4
}