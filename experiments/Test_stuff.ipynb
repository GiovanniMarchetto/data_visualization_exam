{
 "cells": [
  {
   "cell_type": "markdown",
   "source": [
    "# DV stuff"
   ],
   "metadata": {}
  },
  {
   "cell_type": "markdown",
   "source": [
    "This script is used for experiments."
   ],
   "metadata": {}
  },
  {
   "cell_type": "code",
   "execution_count": null,
   "source": [
    "import pandas as pd\r\n",
    "import plotly.graph_objs as go\r\n",
    "import plotly.express as px\r\n",
    "import numpy as np"
   ],
   "outputs": [],
   "metadata": {}
  },
  {
   "cell_type": "code",
   "execution_count": null,
   "source": [
    "# from zipfile import ZipFile\r\n",
    "# import shutil\r\n",
    "\r\n",
    "# fileName = dataFolderName+'/mini_DCSC_RACLI_31082021204439489.csv'\r\n",
    "# with ZipFile(fileName+'.zip','r') as zf_in:\r\n",
    "#     zf_in.printdir()\r\n",
    "#     print('Extracting all the files now...')\r\n",
    "#     zf_in.extractall(dataFolderName)\r\n",
    "#     print('Done!')"
   ],
   "outputs": [],
   "metadata": {}
  },
  {
   "cell_type": "code",
   "execution_count": null,
   "source": [
    "# Drop function\r\n",
    "    # drop command\r\n",
    "    # axis=1 -> columns\r\n",
    "    # axis=0 -> rows"
   ],
   "outputs": [],
   "metadata": {}
  },
  {
   "cell_type": "code",
   "execution_count": null,
   "source": [
    "d = {}\r\n",
    "for i in range(3):\r\n",
    "    a = 2014+i\r\n",
    "    d[\"group\" + str(i)] = a\r\n",
    "print(a)\r\n",
    "print(d)"
   ],
   "outputs": [],
   "metadata": {}
  },
  {
   "cell_type": "code",
   "execution_count": null,
   "source": [
    "# import pandas as pd\r\n",
    "# # join for connect ITTER107 to SIGLA\r\n",
    "# csv_prov = pd.DataFrame(columns=['sigla','codice'])\r\n",
    "\r\n",
    "# fileName = \"province_statistical_codes/Codici-statistici-e-denominazioni-al-01_01_201\"\r\n",
    "# for anno in (4,5,6,7):\r\n",
    "#     temp = pd.read_csv(\"data/\"+fileName + str(anno)+'.csv',sep=';',encoding='ANSI', na_filter=False)\r\n",
    "#     temp = temp[['Sigla automobilistica',temp.columns[-1]]].drop_duplicates()\r\n",
    "#     temp = temp.rename(columns={temp.columns[0]:csv_prov.columns[0],temp.columns[1]:csv_prov.columns[1]})\r\n",
    "#     csv_prov = csv_prov.append(temp).drop_duplicates()\r\n",
    "\r\n",
    "# # csv_prov.query('codice==\"IT108\"')\r\n",
    "# # csv_prov.query('sigla==\"NA\"')\r\n",
    "# # csv_prov.reset_index(drop=True)#.sort_values(by='sigla')\r\n",
    "# # csv_prov[csv_prov.isnull().any(axis=1)].drop_duplicates()\r\n",
    "# csv_prov.append({'sigla':'MB','codice':'IT108'},ignore_index=True)\r\n",
    "# # map_df.query('SIGLA==\"MB\"')\r\n",
    "\r\n",
    "# # merged1 = df_sex_province_year[\"group2015\"].join(csv_prov.set_index(csv_prov.columns[-1]))\r\n",
    "# # merged1.sort_values(by='sigla')#query('Territorio==\"Fermo\"')\r\n",
    "# # merged1[merged1.isnull().any(axis=1)].drop_duplicates()"
   ],
   "outputs": [],
   "metadata": {}
  },
  {
   "cell_type": "code",
   "execution_count": null,
   "source": [
    "f\"map_{3}\""
   ],
   "outputs": [],
   "metadata": {}
  },
  {
   "cell_type": "code",
   "execution_count": null,
   "source": [
    "import plotly.graph_objects as go\r\n",
    "from ipywidgets import interact\r\n",
    "\r\n",
    "fig = go.FigureWidget()\r\n",
    "bar = fig.add_bar(x=['x', '1-x'])\r\n",
    "fig.layout = dict(yaxis=dict(range=[0,1]), height=600)\r\n",
    "\r\n",
    "@interact(x=(0, 1, 0.01))\r\n",
    "def update(x=0.3):  # start value\r\n",
    "    with fig.batch_update():\r\n",
    "        fig.data[0].y=[x, 1-x]\r\n",
    "fig"
   ],
   "outputs": [],
   "metadata": {}
  },
  {
   "cell_type": "code",
   "execution_count": null,
   "source": [
    "import plotly.graph_objects as go\r\n",
    "from plotly.subplots import make_subplots\r\n",
    "\r\n",
    "labels = [\"US\", \"China\", \"European Union\", \"Russian Federation\", \"Brazil\", \"India\",\r\n",
    "          \"Rest of World\"]\r\n",
    "\r\n",
    "# Create subplots: use 'domain' type for Pie subplot\r\n",
    "fig = make_subplots(rows=1, cols=2, specs=[[{'type':'domain'}, {'type':'domain'}]])\r\n",
    "fig.add_trace(go.Pie(labels=labels, values=[16, 15, 12, 6, 5, 4, 42], name=\"GHG Emissions\"),\r\n",
    "              1, 1)\r\n",
    "fig.add_trace(go.Pie(labels=labels, values=[27, 11, 25, 8, 1, 3, 25], name=\"CO2 Emissions\"),\r\n",
    "              1, 2)\r\n",
    "\r\n",
    "# Use `hole` to create a donut-like pie chart\r\n",
    "fig.update_traces(hole=.6, hoverinfo=\"label+percent+name\")\r\n",
    "\r\n",
    "# fig.update_layout(\r\n",
    "#     title_text=\"Global Emissions 1990-2011\",\r\n",
    "#     # Add annotations in the center of the donut pies.\r\n",
    "#     annotations=[dict(text='GHG', x=0.18, y=0.5, font_size=20, showarrow=False),\r\n",
    "#                  dict(text='CO2', x=0.82, y=0.5, font_size=20, showarrow=False)])\r\n",
    "fig.show()"
   ],
   "outputs": [],
   "metadata": {}
  },
  {
   "cell_type": "code",
   "execution_count": null,
   "source": [
    "import pandas as pd\r\n",
    "\r\n",
    "dataFolderName = \"data\"\r\n",
    "fileName = dataFolderName + '/DCSC_RACLI_01092021113430630.csv'\r\n",
    "df = pd.read_csv(fileName)      # load data from CSV to program\r\n",
    "# df.head() # data loaded\r\n",
    "\r\n",
    "df = df.query('`Ateco 2007`!=\"TOTALE\" & `ATECO_2007`>=\"A\" & `ATECO_2007`<=\"Z\"')\r\n",
    "\r\n",
    "sectors_name = df['Ateco 2007'].drop_duplicates().reset_index(drop=True)\r\n",
    "sectors_name\r\n",
    "\r\n",
    "import googletrans #--->pip install googletrans==4.0.0-rc1\r\n",
    "from googletrans import Translator,constants\r\n",
    "translator = Translator()\r\n",
    "\r\n",
    "# print(sectors_name[0])\r\n",
    "for sector in sectors_name:\r\n",
    "    translation = translator.translate(sector, src=\"it\", dest=\"en\")\r\n",
    "    print(f\"{translation.origin} ({translation.src}) \\n--> {translation.text} ({translation.dest})\\n\")\r\n",
    "\r\n",
    "# detection = translator.detect(\"नमस्ते दुनिया\")\r\n",
    "# print(\"Language code:\", detection.lang)\r\n",
    "# print(\"Confidence:\", detection.confidence)"
   ],
   "outputs": [],
   "metadata": {}
  },
  {
   "cell_type": "code",
   "execution_count": null,
   "source": [
    "# SECTORS TRANSLATE\r\n",
    "\r\n",
    "it_sec_names = [\r\n",
    "    \"estrazione di minerali da cave e miniere\", \"attività manifatturiere\", \r\n",
    "    \"fornitura di energia elettrica, gas, vapore e aria condizionata\",\r\n",
    "    \"fornitura di acqua reti fognarie, attività di gestione dei rifiuti e risanamento\",\r\n",
    "    \"costruzioni\",\"commercio all'ingrosso e al dettaglio, riparazione di autoveicoli e motocicli\",\r\n",
    "    \"trasporto e magazzinaggio\",\"attività dei servizi di alloggio e di ristorazione\",\r\n",
    "    \"servizi di informazione e comunicazione\",\"attività finanziarie e assicurative\",\r\n",
    "    \"attività immobiliari\",\"attività professionali, scientifiche e tecniche\",\r\n",
    "    \"noleggio, agenzie di viaggio, servizi di supporto alle imprese\",\"istruzione\",\r\n",
    "    \"sanità e assistenza sociale\",\"attività artistiche, sportive, di intrattenimento e divertimento\",\r\n",
    "    \"altre attività di servizi\"\r\n",
    "    ]\r\n",
    "en_sec_names = [\r\n",
    "    \"extraction of minerals from quarries and mines\", \"manufacturing activities\",\r\n",
    "    \"supply of electricity, gas, steam and air conditioning\",\r\n",
    "    \"water supply sewerage, waste management and sanitation activities\",\r\n",
    "    \"constructions\",\"wholesale and retail trade, repair of motor vehicles and motorcycles\",\r\n",
    "    \"transport and storage\",\"accommodation and food service activities\",\r\n",
    "    \"information and communication services\", \"financial and insurance activities\",\r\n",
    "    \"real estate activities\", \"professional, scientific and technical activities\",\r\n",
    "    \"rental, travel agencies, business support services\", \"education\",\r\n",
    "    \"health and social work\", \"arts, sports, entertainment and recreation\",\r\n",
    "    \"other service activities\"\r\n",
    "    ]"
   ],
   "outputs": [],
   "metadata": {}
  }
 ],
 "metadata": {
  "kernelspec": {
   "name": "python3",
   "display_name": "Python 3.9.7 64-bit (windows store)"
  },
  "language_info": {
   "codemirror_mode": {
    "name": "ipython",
    "version": 3
   },
   "file_extension": ".py",
   "mimetype": "text/x-python",
   "name": "python",
   "nbconvert_exporter": "python",
   "pygments_lexer": "ipython3",
   "version": "3.9.7"
  },
  "interpreter": {
   "hash": "7ad151a14bc03a29e9c8b392768a9fe3b288d39ced89c4237a881df884a496bb"
  }
 },
 "nbformat": 4,
 "nbformat_minor": 4
}