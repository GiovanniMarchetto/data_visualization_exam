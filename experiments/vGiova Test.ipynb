{
 "cells": [
  {
   "cell_type": "markdown",
   "source": [
    "# Data Visualization Exam"
   ],
   "metadata": {}
  },
  {
   "cell_type": "code",
   "execution_count": null,
   "source": [
    "import pandas as pd\r\n",
    "import plotly.graph_objs as go\r\n",
    "import plotly.express as px\r\n",
    "import numpy as np\r\n",
    "\r\n",
    "figureOutputFolder = 'exported_figures'"
   ],
   "outputs": [],
   "metadata": {}
  },
  {
   "cell_type": "markdown",
   "source": [
    "## Data acquisition\r\n",
    "CSV file creation from raw data and loading the CSV file into the program."
   ],
   "metadata": {}
  },
  {
   "cell_type": "code",
   "execution_count": null,
   "source": [
    "dataFolderName = \"data\"\r\n",
    "fileName = dataFolderName + '/DCSC_RACLI_01092021113430630.csv'\r\n",
    "df = pd.read_csv(fileName)      # load data from CSV to program\r\n",
    "df.head() # data loaded"
   ],
   "outputs": [],
   "metadata": {}
  },
  {
   "cell_type": "markdown",
   "source": [
    "## Data parsing"
   ],
   "metadata": {}
  },
  {
   "cell_type": "code",
   "execution_count": null,
   "source": [
    "# TODO: Check for errors in data\r\n",
    "#       total is equal to the arithmetic mean of the parts? not seem\r\n",
    "#       find missing data\r\n",
    "#   \tcheck that value apprendista < operaio < dirigente (for territory)\r\n",
    "\r\n",
    "print('\\nBefore remove duplicates: ' + str(len(df)) + ' rows')\r\n",
    "df.drop_duplicates()\r\n",
    "print('After remove duplicates:  ' + str(len(df)) + ' rows')\r\n",
    "\r\n",
    "# are values reasonable?\r\n",
    "print('\\nMin value is ' + str(df['Value'].min()))\r\n",
    "print('Max value is ' + str(df['Value'].max()))\r\n",
    "\r\n",
    "# TODO: Change type\r\n",
    "\r\n",
    "# TODO: Choose the level for hierachical data\r\n"
   ],
   "outputs": [],
   "metadata": {}
  },
  {
   "cell_type": "code",
   "execution_count": null,
   "source": [
    "# TODO: Transform the data\r\n",
    "df['Territorio'] = df['Territorio'].str.replace(' / ','/')\r\n",
    "\r\n",
    "# TODO: rename and translate df fields\r\n",
    "# rename sectors in english\r\n",
    "it_sec_names = df.query('`Ateco 2007`!=\"TOTALE\" & `ATECO_2007`>=\"A\" & `ATECO_2007`<=\"Z\"')['Ateco 2007'].drop_duplicates().reset_index(drop=True)\r\n",
    "\r\n",
    "en_sec_names = []\r\n",
    "\r\n",
    "import googletrans #--->pip install googletrans==4.0.0-rc1\r\n",
    "from googletrans import Translator,constants\r\n",
    "translator = Translator()\r\n",
    "\r\n",
    "# print(sectors_name[0])\r\n",
    "for sector in it_sec_names:\r\n",
    "    translation = translator.translate(sector, src=\"it\", dest=\"en\")\r\n",
    "    en_sec_names.append(translation.text)\r\n",
    "\r\n",
    "for i in range(0, len(it_sec_names)):\r\n",
    "    df.loc[df['Ateco 2007']==it_sec_names[i],\"Ateco 2007\"] = en_sec_names[i]\r\n",
    "\r\n",
    "# df_sectors_tot\r\n"
   ],
   "outputs": [],
   "metadata": {}
  },
  {
   "cell_type": "markdown",
   "source": [
    "## Data filtering"
   ],
   "metadata": {}
  },
  {
   "cell_type": "code",
   "execution_count": null,
   "source": [
    "df2 = df.copy()\r\n",
    "\r\n",
    "# unique data\r\n",
    "del df2['TIPO_DATO7'] # always the same (HOUWAG_ENTEMP_AV_MI)\r\n",
    "del df2['Tipo dato']  # always the same (Retribuzione lorda oraria per ora retribuita delle posizioni lavorative dipendenti in euro (media).)\r\n",
    "\r\n",
    "# ridondance of information\r\n",
    "df2 = df2.drop(['SEXISTAT1', 'ETA1_A','PROFILO_PROF','CLLVT','Seleziona periodo'], axis=1)\r\n",
    "# del df2['ATECO_2007']\r\n",
    "\r\n",
    "df2 = df2[df2['Flag Codes'] != 'c'] # delete incomplete data\r\n",
    "\r\n",
    "del df2['Flags']\r\n",
    "del df2['Flag Codes']\r\n",
    "\r\n",
    "df2.head()"
   ],
   "outputs": [],
   "metadata": {}
  },
  {
   "cell_type": "markdown",
   "source": [
    "## Data mining"
   ],
   "metadata": {}
  },
  {
   "cell_type": "code",
   "execution_count": null,
   "source": [
    "# granularity of sectors exists only for entire Italy (no territorial granularity)\r\n",
    "df_sectors = df2.query('`Ateco 2007`!=\"TOTALE\"')\r\n",
    "\r\n",
    "# choose granularity of sectors\r\n",
    "df_sectors = df_sectors.query('`ATECO_2007`>=\"A\" & `ATECO_2007`<=\"Z\"')\r\n",
    "\r\n",
    "df_sectors = df_sectors.drop(['Territorio', 'ATECO_2007'], axis=1)"
   ],
   "outputs": [],
   "metadata": {}
  },
  {
   "cell_type": "code",
   "execution_count": null,
   "source": [
    "df_territory = df2.query('`Ateco 2007`==\"TOTALE\"')\r\n",
    "df_territory = df_territory.drop(['Ateco 2007', 'ATECO_2007'], axis=1)"
   ],
   "outputs": [],
   "metadata": {}
  },
  {
   "cell_type": "code",
   "execution_count": null,
   "source": [
    "# TODO: start with univariate analysis (one variable at a time), continue with multivariate analysis"
   ],
   "outputs": [],
   "metadata": {}
  },
  {
   "cell_type": "markdown",
   "source": [
    "## Question 1\r\n",
    "In private companies, are salaries higher in northern Italy than in the south? (Where do people earn more? Maybe divide by principal/worker/apprentice)"
   ],
   "metadata": {}
  },
  {
   "cell_type": "markdown",
   "source": [
    "## Question 2\r\n",
    "Do women earn less than men in Italy in private companies? Where is the most difference?"
   ],
   "metadata": {}
  },
  {
   "cell_type": "code",
   "execution_count": null,
   "source": [
    "df_sex = df_territory.query('Sesso!=\"totale\"')\r\n",
    "df_sex = df_sex.drop(['Classe di età','Qualifica contrattuale','Classe di dipendenti'],axis=1)\r\n",
    "len(df_sex)"
   ],
   "outputs": [],
   "metadata": {}
  },
  {
   "cell_type": "markdown",
   "source": [
    "### Plot line chart"
   ],
   "metadata": {}
  },
  {
   "cell_type": "code",
   "execution_count": null,
   "source": [
    "df_sex_tot = df_sex.query('Territorio==\"Italia\"')\r\n",
    "\r\n",
    "title = 'Gender difference salary in Italy'\r\n",
    "source = 'Source: Istat'\r\n",
    "labels = ['Male','Female']\r\n",
    "colors = ['rgb(0,0,115)', 'rgb(115,0,0)']\r\n",
    "\r\n",
    "x_year = np.arange(df_sex_tot.TIME.min(), df_sex_tot.TIME.max()+1)\r\n",
    "x_data = np.vstack((x_year,)*2)\r\n",
    "\r\n",
    "df_sex_tot.sort_values(by='TIME')\r\n",
    "y_tot_m = df_sex_tot.query('Sesso==\"maschi\"')\r\n",
    "y_tot_w = df_sex_tot.query('Sesso==\"femmine\"')\r\n",
    "y_data = np.array([y_tot_m['Value'],y_tot_w['Value']])"
   ],
   "outputs": [],
   "metadata": {}
  },
  {
   "cell_type": "code",
   "execution_count": null,
   "source": [
    "fig = go.Figure()\r\n",
    "\r\n",
    "for i in range(0, 2):\r\n",
    "    fig.add_trace(go.Scatter(x=x_data[i], y=y_data[i], mode='lines',\r\n",
    "        name=labels[i], line=dict(color=colors[i]), connectgaps=True ))\r\n",
    "    # endpoints\r\n",
    "    fig.add_trace(go.Scatter(x=x_data[i], y=y_data[i],\r\n",
    "        mode='markers+text', marker=dict(color=colors[i]),\r\n",
    "        text=y_data[i] , textposition=\"bottom center\"))\r\n",
    "\r\n",
    "fig.update_layout(\r\n",
    "    xaxis_title=\"year\",\r\n",
    "    yaxis_title=\"€/h\",\r\n",
    "    xaxis=dict(showline=True, showticklabels=True, ticks='outside',\r\n",
    "        linecolor='rgb(204, 204, 204)', linewidth=2, dtick = 1),\r\n",
    "    yaxis=dict(showline=True, showticklabels=True, ticks='outside', \r\n",
    "        linecolor='rgb(204, 204, 204)', linewidth=2, dtick = 5,\r\n",
    "        range = [0, max(df_sex_tot['Value']*1.5)]),\r\n",
    "    showlegend=False,\r\n",
    "    plot_bgcolor='white',\r\n",
    "    font=dict(family=\"Bahnschrift\",size=10,color=\"grey\"),\r\n",
    "\r\n",
    "    \r\n",
    ")\r\n",
    "\r\n",
    "annotations = []\r\n",
    "\r\n",
    "# # Title\r\n",
    "# annotations.append(dict(text=title, showarrow=False,\r\n",
    "#     xref='paper', yref='paper', x=0.0, y=1.05, xanchor='left', yanchor='bottom', \r\n",
    "#     font=dict(family='Arial', size=30, color='rgb(37,37,37)'), ))\r\n",
    "# # Source\r\n",
    "# annotations.append(dict(text=source,showarrow=False,\r\n",
    "#     xref='paper', yref='paper', x=0.5, y=-0.1, xanchor='center', yanchor='top', \r\n",
    "#     font=dict(family='Arial', size=12, color='rgb(150,150,150)'), ))\r\n",
    "\r\n",
    "# Name of lines\r\n",
    "annotations.append(dict(text=labels[0],showarrow=False,\r\n",
    "    xref='paper', x=0.3, y=y_data[0,2]+1.5, xanchor='right', yanchor='middle', \r\n",
    "    font=dict(family=\"Bahnschrift\",size=16,color=colors[0])))\r\n",
    "annotations.append(dict(text=labels[1],showarrow=False,\r\n",
    "    xref='paper', x=0.3, y=y_data[1,2]-1.5, xanchor='right', yanchor='middle', \r\n",
    "        font=dict(family=\"Bahnschrift\",size=16,color=colors[1])))\r\n",
    "\r\n",
    "# annotations.append(dict(text='ciaoooo',showarrow=False,\r\n",
    "#     xref='paper', x=-0.3, y=2015, xanchor='right', yanchor='middle', \r\n",
    "#     font=dict(size=16,color='black')))\r\n",
    "\r\n",
    "fig.update_layout(annotations=annotations)\r\n",
    "\r\n",
    "fig.show()\r\n",
    "\r\n",
    "fig.write_image(f\"{figureOutputFolder}/line_MF_gap.svg\")"
   ],
   "outputs": [],
   "metadata": {}
  },
  {
   "cell_type": "markdown",
   "source": [
    "### Plot donuts chart"
   ],
   "metadata": {}
  },
  {
   "cell_type": "code",
   "execution_count": null,
   "source": [
    "import plotly.graph_objects as go\r\n",
    "from plotly.subplots import make_subplots\r\n",
    "\r\n",
    "labels = [\"<11\", \"11..13\", \"13..15\", \"15..17\", \">17\"]\r\n",
    "\r\n",
    "# Create subplots: use 'domain' type for Pie subplot\r\n",
    "# fig = make_subplots(rows=1, cols=2, specs=[[{'type':'domain'}, {'type':'domain'}]])\r\n",
    "\r\n",
    "gender_i = ['maschi','femmine','totale']\r\n",
    "gender_e = ['male','female','tot']\r\n",
    "band = [1,11,13,15,17,100]\r\n",
    "df_sex_province = df_territory[df_territory['ITTER107'].str.contains('.{5}')]\r\n",
    "\r\n",
    "\r\n",
    "for year in range (2014,2018):\r\n",
    "    for g in range(0,len(gender_i)):\r\n",
    "        tmp_gen = df_sex_province.query(f'Sesso==\"{gender_i[g]}\" & TIME=={year}')\r\n",
    "        tmp_len=[]\r\n",
    "        \r\n",
    "        for i in range(0,len(band)-1):\r\n",
    "            tmp_len.append(len(tmp_gen.query(\r\n",
    "                f'Value>={band[i]} & Value<{band[i+1]}')))#*100/tmp_tot_len)\r\n",
    "        # print(tmp_len)\r\n",
    "\r\n",
    "        layout = go.Layout(\r\n",
    "            {\r\n",
    "                # \"title\":f\"{gender_e[g]} retribution's range {year}\",\r\n",
    "                # \"grid\": {\"rows\": 1, \"columns\": 2},\r\n",
    "                \"annotations\": [\r\n",
    "                    {\r\n",
    "                        \"font\": {\"size\": 50},\"showarrow\": False,\r\n",
    "                        \"text\": f\"{gender_e[g]}\"#\\n {year}\",\r\n",
    "                        #\"x\": 0.20,\"y\": 0.5\r\n",
    "                    }\r\n",
    "                ]\r\n",
    "            }\r\n",
    "        )\r\n",
    "\r\n",
    "        \r\n",
    "        fig = go.Figure(data=[go.Pie(labels=labels, values=tmp_len, hole=.5,\r\n",
    "            sort=False,direction ='clockwise')],layout=layout)\r\n",
    "         #name=f\"{gender[g]} retribution's range {year}\")])\r\n",
    "\r\n",
    "        colors_donut=['#4dac26', '#b8e186', '#fefee9', '#f1b6da', '#d01c8b'][::-1]\r\n",
    "\r\n",
    "        fig.update_traces(textfont_size=30,#hoverinfo='label+percent', textinfo='value', \r\n",
    "                  marker=dict(colors=colors_donut, \r\n",
    "                  line=dict(color='#000000', width=0.1)\r\n",
    "                  ))\r\n",
    "\r\n",
    "        fig.update_layout(showlegend=False, width=500, height=500,\r\n",
    "                            margin=dict(l=20, r=20, t=20, b=20),)\r\n",
    "\r\n",
    "        if year==2014 and g==0:\r\n",
    "        #     for i in range(0,len(band)-1):\r\n",
    "        #         print(f\"Band[{band[i],band[i+1]}]\")\r\n",
    "        #         print(tmp_gen.query(f'Value>={band[i]} & Value<{band[i+1]}')['Value'])\r\n",
    "        #         print()\r\n",
    "            fig.show()\r\n",
    "\r\n",
    "        # fig.write_image(f\"{figureOutputFolder}/donut_chart/{gender_e[g]}_{year}.svg\")\r\n",
    "        # fig.write_image(f\"{figureOutputFolder}/donut_chart/{gender_e[g]}_{year}.png\")\r\n",
    "\r\n",
    "        #         # Export the figure\r\n",
    "        # if exportFigure:\r\n",
    "        #     fig.write_image(f\"{figureOutputFolder}/question 2/{gender_e[g]}_{year}.svg\")\r\n",
    "        #     fig.write_image(f\"{figureOutputFolder}/question 2/{gender_e[g]}_{year}.png\", \r\n",
    "        #         width=outputWidthImage, height=outputHeightImage)"
   ],
   "outputs": [],
   "metadata": {}
  },
  {
   "cell_type": "markdown",
   "source": [
    "### Plot gender map"
   ],
   "metadata": {}
  },
  {
   "cell_type": "code",
   "execution_count": null,
   "source": [
    "import matplotlib.pyplot as plt\r\n",
    "from matplotlib.colors import TwoSlopeNorm\r\n",
    "import geopandas as gpd\r\n",
    "from geopandas import GeoDataFrame"
   ],
   "outputs": [],
   "metadata": {}
  },
  {
   "cell_type": "code",
   "execution_count": null,
   "source": [
    "map_df = {}\r\n",
    "\r\n",
    "map_df[\"map_2014\"] = gpd.read_file(f'{dataFolderName}/province_shapes/Prov01012014_g/Prov01012014_g_WGS84.shp')\r\n",
    "\r\n",
    "for year in range(2015,2018):\r\n",
    "    fp = f'{dataFolderName}/province_shapes/ProvCM01012017_g/ProvCM01012017_g_WGS84.shp'\r\n",
    "    \r\n",
    "    map_df[f\"map_{year}\"] = gpd.read_file(fp) #reading the file stored in variable fp\r\n",
    "\r\n",
    "    map_df[f\"map_{year}\"].loc[map_df[f\"map_{year}\"].DEN_PCM==\"Aosta\",\"DEN_PCM\"] = \"Valle d'Aosta/Vallée d'Aoste\"\r\n",
    "    map_df[f\"map_{year}\"].loc[map_df[f\"map_{year}\"].DEN_PCM==\"Forli'-Cesena\",\"DEN_PCM\"] = \"Forlì-Cesena\"\r\n",
    "    map_df[f\"map_{year}\"].loc[map_df[f\"map_{year}\"].DEN_PCM==\"Massa Carrara\",\"DEN_PCM\"] = \"Massa-Carrara\"\r\n",
    "    map_df[f\"map_{year}\"].loc[map_df[f\"map_{year}\"].DEN_PCM==\"Bolzano\",\"DEN_PCM\"] = \"Bolzano/Bozen\"\r\n",
    "\r\n",
    "    # print(map_df[f\"map_{year}\"].plot())\r\n",
    "# map_df['map_2015']"
   ],
   "outputs": [],
   "metadata": {}
  },
  {
   "cell_type": "code",
   "execution_count": null,
   "source": [
    "# consider only province data\r\n",
    "df_sex_province = df_sex[df_sex['ITTER107'].str.contains('.{5}')]\r\n",
    "\r\n",
    "df_sex_province_year = {}\r\n",
    "for year in range(2014,2018):\r\n",
    "    temp = df_sex_province.query(f'TIME=={year}')\r\n",
    "    temp_f = temp.query('Sesso==\"maschi\"').set_index('ITTER107').drop('Sesso',axis=1)\r\n",
    "    temp_d = temp.query('Sesso==\"femmine\"').set_index('ITTER107')\r\n",
    "    temp_f['Value'] = [temp_f['Value'][prov]-temp_d['Value'][prov] for prov in temp['ITTER107'].drop_duplicates()]\r\n",
    "    df_sex_province_year[f'group_{year}'] = temp_f\r\n",
    "\r\n",
    "del temp, temp_d, temp_f\r\n",
    "# df_sex_province_year[\"group_2014\"]"
   ],
   "outputs": [],
   "metadata": {}
  },
  {
   "cell_type": "code",
   "execution_count": null,
   "source": [
    "# merge data with map shapes\r\n",
    "merged = {}\r\n",
    "for year in range(2014,2018):\r\n",
    "    merged[f'merged_{year}'] = df_sex_province_year[f'group_{year}'].set_index('Territorio').join(\r\n",
    "        map_df[f'map_{year}'].set_index('DEN_PROV' if year==2014 else 'DEN_PCM'))\r\n",
    "    # if year==2015: print(merged[f'merged_{year}'][merged[f'merged_{year}'].isnull().any(axis=1)].drop_duplicates())"
   ],
   "outputs": [],
   "metadata": {}
  },
  {
   "cell_type": "code",
   "execution_count": null,
   "source": [
    "vmax = 0\r\n",
    "for year in range(2014,2018):\r\n",
    "    merged[f'merged_{year}'] = GeoDataFrame(merged[f'merged_{year}'])\r\n",
    "    temp = round(merged[f'merged_{year}']['Value'].abs().max())\r\n",
    "    if temp > vmax: vmax = temp\r\n",
    "\r\n",
    "vmin, vcenter = -vmax, 0           # set the range for the choropleth\r\n",
    "\r\n",
    "variable = 'Value'\r\n",
    "color_map = 'RdBu'\r\n",
    "\r\n",
    "fig, ax = plt.subplots(1, figsize=(10, 6))  # create figure and axes for Matplotlib\r\n",
    "ax.axis('off')  # remove the axis\r\n",
    "# ax.set_title('Gender salary difference', fontdict={'fontsize': '25', 'fontweight' : '3'}) # add a title\r\n",
    "\r\n",
    "# create an annotation for the data source\r\n",
    "# ax.annotate('Source: Istat', xy=(0.1, .08), xycoords='figure fraction', horizontalalignment='left',\r\n",
    "#     verticalalignment='top', fontsize=12, color='#555555')\r\n",
    "\r\n",
    "norm = TwoSlopeNorm(vmin=vmin, vcenter=vcenter, vmax=vmax)\r\n",
    "\r\n",
    "merged[f'merged_2015'].plot(column=variable, cmap=color_map, linewidth=0.01, ax=ax, edgecolor='0.8', norm=norm)\r\n",
    "\r\n",
    "sm = plt.cm.ScalarMappable(norm=norm, cmap=color_map)\r\n",
    "cbar = fig.colorbar(sm)                                     # add the colorbar to the figure\r\n",
    "\r\n",
    "# fig.savefig('map_export.png', dpi=300)        #saving our map as .png file."
   ],
   "outputs": [],
   "metadata": {}
  },
  {
   "cell_type": "markdown",
   "source": [
    "## Question 3\r\n",
    "What are the sectors for which the salaries in private companies are highest in Italy?"
   ],
   "metadata": {}
  },
  {
   "cell_type": "code",
   "execution_count": null,
   "source": [
    "import plotly.graph_objects as go\r\n",
    "from ipywidgets import interact"
   ],
   "outputs": [],
   "metadata": {}
  },
  {
   "cell_type": "code",
   "execution_count": null,
   "source": [
    "df_sectors_tot = df_sectors.query('Sesso==\"totale\" & `Classe di età`==\"totale\" & \\\r\n",
    "                              `Classe di dipendenti`==\"totale\" & `Qualifica contrattuale`==\"totale\"'\r\n",
    "                              )[['Ateco 2007','TIME','Value']]"
   ],
   "outputs": [],
   "metadata": {}
  },
  {
   "cell_type": "code",
   "execution_count": null,
   "source": [
    "long_names = [\r\n",
    "    'Supply of electricity, gas, steam and air conditioning',\r\n",
    "    'Activities of accommodation and catering services',\r\n",
    "    'Other services activities',\r\n",
    "    'Financial and insurance activities',\r\n",
    "    'Rental, travel agencies, business support services'\r\n",
    "    ]\r\n",
    "br_names = [\r\n",
    "    'Supply of electricity, gas,'+'<br>'+'steam and air conditioning',\r\n",
    "    'Activities of accommodation'+'<br>'+'and catering services',\r\n",
    "    'Other services activities',\r\n",
    "    'Financial and insurance'+'<br>'+'activities',\r\n",
    "    'Rental, travel agencies,'+'<br>'+'business support services'\r\n",
    "    ]\r\n",
    "for i in range(0, len(long_names)):\r\n",
    "    df_sectors_tot.loc[df_sectors_tot['Ateco 2007']==long_names[i],\"Ateco 2007\"] = br_names[i]"
   ],
   "outputs": [],
   "metadata": {}
  },
  {
   "cell_type": "code",
   "execution_count": null,
   "source": [
    "colors_palette = ['#003a2b','#249e89','#f5f5f5','#d86e58','#6a0000']\r\n",
    "colors_barchart = ['#c0c0c0','#c0c0c0','#c0c0c0',colors_palette[1],colors_palette[1]]\r\n",
    "\r\n",
    "howManyEls=2\r\n",
    "df_new = pd.DataFrame(columns=['Ateco 2007','TIME','Value'])\r\n",
    "val_x_axis = max(df_sectors_tot['Value'])\r\n",
    "\r\n",
    "for year in range(2014,2018,1):\r\n",
    "  tmp = df_sectors_tot.query(f'TIME=={year}').sort_values(by='Value')\r\n",
    "  df_new = df_new.append(tmp.head(howManyEls))\r\n",
    "  \r\n",
    "  others = {'Ateco 2007':['Others'],'TIME':[year],'Value':[round(np.average(tmp.head(-howManyEls).tail(-howManyEls)[\"Value\"]),2)]}\r\n",
    "  tmp_others = pd.DataFrame(others,columns=['Ateco 2007','TIME','Value'])\r\n",
    "  df_new = df_new.append(tmp_others)\r\n",
    "  \r\n",
    "  df_new = df_new.append(tmp.tail(howManyEls))\r\n",
    "\r\n",
    "  # df_new = df_new.sort_values(by='Value').reset_index()\r\n",
    "\r\n",
    "  fig = px.bar(df_new.query(f'TIME=={year}'), x=\"Value\", y=\"Ateco 2007\", text=\"Value\")\r\n",
    "\r\n",
    "  fig.update_traces(texttemplate='%{text:.2f} ', textposition='inside')\r\n",
    "\r\n",
    "  fig.update_traces(marker_color= colors_barchart)\r\n",
    "                  # , marker_line_color='rgb(8,48,107)',marker_line_width=1.5, opacity=0.6)\r\n",
    "\r\n",
    "  fig.update_layout(\r\n",
    "    title_text=f'{year}',\r\n",
    "    yaxis_title=None,\r\n",
    "    xaxis_title=\"€/h\",\r\n",
    "    xaxis=dict(showline=True, showticklabels=True, ticks='outside',\r\n",
    "      linecolor='rgb(204, 204, 204)', linewidth=2, dtick = 5,\r\n",
    "      range = [0, val_x_axis]),\r\n",
    "    yaxis=dict( showgrid=False, showline=False, ),\r\n",
    "    paper_bgcolor='white',\r\n",
    "    plot_bgcolor='white',\r\n",
    "    showlegend=False,\r\n",
    "    width=800, height=350\r\n",
    "    )\r\n",
    "  \r\n",
    "  fig.show()"
   ],
   "outputs": [],
   "metadata": {}
  },
  {
   "cell_type": "code",
   "execution_count": null,
   "source": [
    "howManyEls=2\r\n",
    "df_new = pd.DataFrame(columns=['Ateco 2007','TIME','Value'])\r\n",
    "\r\n",
    "for year in range(2014,2018,1):\r\n",
    "  tmp = df_sectors_tot.query(f'TIME=={year}').sort_values(by='Value')\r\n",
    "  df_new = df_new.append(tmp.head(howManyEls))\r\n",
    "  \r\n",
    "  others = {'Ateco 2007':['Others<br>Acca<tab>'],'TIME':[year],'Value':[round(np.average(tmp.head(-howManyEls).tail(-howManyEls)[\"Value\"]),2)]}\r\n",
    "  tmp_others = pd.DataFrame(others,columns=['Ateco 2007','TIME','Value'])\r\n",
    "  df_new = df_new.append(tmp_others)\r\n",
    "  \r\n",
    "  df_new = df_new.append(tmp.tail(howManyEls))\r\n",
    "\r\n",
    "df_new = df_new.sort_values(by='Value').reset_index()\r\n",
    "\r\n",
    "fig = px.bar(df_new, x=\"Value\", y=\"Ateco 2007\", text=\"Value\",\r\n",
    "  animation_frame=\"TIME\", range_x=[0,df_new['Value'].max()*1.1])\r\n",
    "\r\n",
    "fig.update_traces(texttemplate='%{text:.2f} ', textposition='inside')\r\n",
    "\r\n",
    "fig.update_layout(\r\n",
    "      xaxis=dict( showgrid=False, showline=False ),\r\n",
    "      yaxis=dict( showgrid=False, showline=False, ),\r\n",
    "      paper_bgcolor='white',\r\n",
    "      plot_bgcolor='white',\r\n",
    "    )\r\n",
    "\r\n",
    "fig.layout.updatemenus[0].buttons[0].args[1]['frame']['duration'] = 1000\r\n",
    "# fig.layout.updatemenus[0].buttons[0].args[1]['transition']['duration'] = 1\r\n",
    "\r\n",
    "# figureOutputFolder = 'exported_figures'\r\n",
    "fig.write_html(f\"{figureOutputFolder}/barchart.svg\")\r\n",
    "  \r\n",
    "fig.show(\"notebook\")"
   ],
   "outputs": [],
   "metadata": {}
  }
 ],
 "metadata": {
  "kernelspec": {
   "name": "python3",
   "display_name": "Python 3.9.7 64-bit (windows store)"
  },
  "language_info": {
   "codemirror_mode": {
    "name": "ipython",
    "version": 3
   },
   "file_extension": ".py",
   "mimetype": "text/x-python",
   "name": "python",
   "nbconvert_exporter": "python",
   "pygments_lexer": "ipython3",
   "version": "3.9.7"
  },
  "interpreter": {
   "hash": "0a7bcdce5e7de3fa1d95f97898f0ba64b04cd3f3c86a5acc783c9d14c07e9707"
  }
 },
 "nbformat": 4,
 "nbformat_minor": 4
}