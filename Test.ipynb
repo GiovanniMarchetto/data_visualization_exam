{
 "cells": [
  {
   "cell_type": "markdown",
   "source": [
    "# Data Visualization Exam"
   ],
   "metadata": {}
  },
  {
   "cell_type": "code",
   "execution_count": null,
   "source": [
    "import pandas as pd\r\n",
    "import plotly.graph_objs as go\r\n",
    "import plotly.express as px\r\n",
    "import numpy as np"
   ],
   "outputs": [],
   "metadata": {}
  },
  {
   "cell_type": "markdown",
   "source": [
    "## Data acquisition\r\n",
    "CSV file creation from raw data and loading the CSV file into the program."
   ],
   "metadata": {}
  },
  {
   "cell_type": "code",
   "execution_count": null,
   "source": [
    "dataFolderName = \"data\"\r\n",
    "fileName = dataFolderName + '/DCSC_RACLI_01092021113430630.csv'\r\n",
    "df = pd.read_csv(fileName)      # load data from CSV to program\r\n",
    "df.head() # data loaded"
   ],
   "outputs": [],
   "metadata": {}
  },
  {
   "cell_type": "markdown",
   "source": [
    "## Data parsing"
   ],
   "metadata": {}
  },
  {
   "cell_type": "code",
   "execution_count": null,
   "source": [
    "# TODO: Check for errors in data\r\n",
    "#       total is equal to the arithmetic mean of the parts? not seem\r\n",
    "#       find missing data\r\n",
    "#   \tcheck that value apprendista < operaio < dirigente (for territory)\r\n",
    "\r\n",
    "print('\\nBefore remove duplicates: ' + str(len(df)) + ' rows')\r\n",
    "df.drop_duplicates()\r\n",
    "print('After remove duplicates:  ' + str(len(df)) + ' rows')\r\n",
    "\r\n",
    "# are values reasonable?\r\n",
    "print('\\nMin value is ' + str(df['Value'].min()))\r\n",
    "print('Max value is ' + str(df['Value'].max()))\r\n",
    "\r\n",
    "# TODO: Change type\r\n",
    "\r\n",
    "# TODO: Choose the level for hierachical data\r\n",
    "\r\n",
    "\r\n",
    "# TODO: Transform the data\r\n",
    "df['Territorio'] = df['Territorio'].str.replace(' / ','/')\r\n",
    "\r\n",
    "# TODO: rename and translate df fields"
   ],
   "outputs": [],
   "metadata": {}
  },
  {
   "cell_type": "markdown",
   "source": [
    "## Data filtering"
   ],
   "metadata": {}
  },
  {
   "cell_type": "code",
   "execution_count": null,
   "source": [
    "df2 = df.copy()\r\n",
    "\r\n",
    "# unique data\r\n",
    "del df2['TIPO_DATO7'] # always the same (HOUWAG_ENTEMP_AV_MI)\r\n",
    "del df2['Tipo dato']  # always the same (Retribuzione lorda oraria per ora retribuita delle posizioni lavorative dipendenti in euro (media).)\r\n",
    "\r\n",
    "# ridondance of information\r\n",
    "df2 = df2.drop(['SEXISTAT1', 'ETA1_A','PROFILO_PROF','CLLVT','Seleziona periodo'], axis=1)\r\n",
    "# del df2['ATECO_2007']\r\n",
    "\r\n",
    "df2 = df2[df2['Flag Codes'] != 'c'] # delete incomplete data\r\n",
    "\r\n",
    "del df2['Flags']\r\n",
    "del df2['Flag Codes']\r\n",
    "\r\n",
    "df2.head()"
   ],
   "outputs": [],
   "metadata": {}
  },
  {
   "cell_type": "markdown",
   "source": [
    "## Data mining"
   ],
   "metadata": {}
  },
  {
   "cell_type": "code",
   "execution_count": null,
   "source": [
    "# granularity of sectors exists only for entire Italy (no territorial granularity)\r\n",
    "df_sectors = df2.query('`Ateco 2007`!=\"TOTALE\"')\r\n",
    "\r\n",
    "# choose granularity of sectors\r\n",
    "df_sectors = df_sectors.query('`ATECO_2007`>=\"A\" & `ATECO_2007`<=\"Z\"')\r\n",
    "\r\n",
    "df_sectors = df_sectors.drop(['Territorio', 'ATECO_2007'], axis=1)"
   ],
   "outputs": [],
   "metadata": {}
  },
  {
   "cell_type": "code",
   "execution_count": null,
   "source": [
    "df_territory = df2.query('`Ateco 2007`==\"TOTALE\"')\r\n",
    "df_territory = df_territory.drop(['Ateco 2007', 'ATECO_2007'], axis=1)"
   ],
   "outputs": [],
   "metadata": {}
  },
  {
   "cell_type": "code",
   "execution_count": null,
   "source": [
    "# TODO: start with univariate analysis (one variable at a time), continue with multivariate analysis"
   ],
   "outputs": [],
   "metadata": {}
  },
  {
   "cell_type": "markdown",
   "source": [
    "## Question 1\r\n",
    "Do women earn less than men in Italy in private companies? Where is the most difference?"
   ],
   "metadata": {}
  },
  {
   "cell_type": "code",
   "execution_count": null,
   "source": [
    "df_sex = df_territory.query('Sesso!=\"totale\"')\r\n",
    "df_sex = df_sex.drop(['Classe di età','Qualifica contrattuale','Classe di dipendenti'],axis=1)\r\n",
    "len(df_sex)"
   ],
   "outputs": [],
   "metadata": {}
  },
  {
   "cell_type": "markdown",
   "source": [
    "### Plot line chart"
   ],
   "metadata": {}
  },
  {
   "cell_type": "code",
   "execution_count": null,
   "source": [
    "df_sex_tot = df_sex.query('Territorio==\"Italia\"')\r\n",
    "\r\n",
    "title = 'Gender difference salary in Italy'\r\n",
    "source = 'Source: Istat'\r\n",
    "labels = ['Men','Women']\r\n",
    "colors = ['rgb(0,0,115)', 'rgb(115,0,0)']\r\n",
    "\r\n",
    "x_year = np.arange(df_sex_tot.TIME.min(), df_sex_tot.TIME.max()+1)\r\n",
    "x_data = np.vstack((x_year,)*2)\r\n",
    "\r\n",
    "df_sex_tot.sort_values(by='TIME')\r\n",
    "y_tot_m = df_sex_tot.query('Sesso==\"maschi\"')\r\n",
    "y_tot_w = df_sex_tot.query('Sesso==\"femmine\"')\r\n",
    "y_data = np.array([y_tot_m['Value'],y_tot_w['Value']])"
   ],
   "outputs": [],
   "metadata": {}
  },
  {
   "cell_type": "code",
   "execution_count": null,
   "source": [
    "fig = go.Figure()\r\n",
    "\r\n",
    "for i in range(0, 2):\r\n",
    "    fig.add_trace(go.Scatter(x=x_data[i], y=y_data[i], mode='lines',\r\n",
    "        name=labels[i], line=dict(color=colors[i]), connectgaps=True ))\r\n",
    "    # endpoints\r\n",
    "    fig.add_trace(go.Scatter(x=x_data[i], y=y_data[i],\r\n",
    "        mode='markers+text', marker=dict(color=colors[i]),\r\n",
    "        text=y_data[i] , textposition=\"bottom center\"))\r\n",
    "\r\n",
    "fig.update_layout(\r\n",
    "    xaxis=dict(showline=True, showticklabels=True, ticks='outside',\r\n",
    "        linecolor='rgb(204, 204, 204)', linewidth=2, dtick = 1),\r\n",
    "    yaxis=dict(showline=True, showticklabels=True, ticks='outside', \r\n",
    "        range = [0, max(df_sex_tot['Value']*1.5)], zeroline=True),\r\n",
    "    showlegend=False,\r\n",
    "    plot_bgcolor='white'\r\n",
    ")\r\n",
    "\r\n",
    "annotations = []\r\n",
    "\r\n",
    "# Title\r\n",
    "annotations.append(dict(text=title, showarrow=False,\r\n",
    "    xref='paper', yref='paper', x=0.0, y=1.05, xanchor='left', yanchor='bottom', \r\n",
    "    font=dict(family='Arial', size=30, color='rgb(37,37,37)'), ))\r\n",
    "# Source\r\n",
    "annotations.append(dict(text=source,showarrow=False,\r\n",
    "    xref='paper', yref='paper', x=0.5, y=-0.1, xanchor='center', yanchor='top', \r\n",
    "    font=dict(family='Arial', size=12, color='rgb(150,150,150)'), ))\r\n",
    "\r\n",
    "# Name of lines\r\n",
    "annotations.append(dict(text=labels[0],showarrow=False,\r\n",
    "    xref='paper', x=0.3, y=y_data[0,2]+1.5, xanchor='right', yanchor='middle', \r\n",
    "    font=dict(size=16,color=colors[0])))\r\n",
    "annotations.append(dict(text=labels[1],showarrow=False,\r\n",
    "    xref='paper', x=0.3, y=y_data[1,2]-1.5, xanchor='right', yanchor='middle', \r\n",
    "        font=dict(size=16,color=colors[1])))\r\n",
    "# for i in range(0,len(labels)):\r\n",
    "#     annotations.append(dict(text=labels[i],showarrow=True,\r\n",
    "#         xref='paper', x=0.3, y=y_data[i,2], xanchor='right', yanchor='middle', \r\n",
    "#         font=dict(family='Arial',size=16,color=colors[i])))\r\n",
    "\r\n",
    "fig.update_layout(annotations=annotations)\r\n",
    "\r\n",
    "fig.show()"
   ],
   "outputs": [],
   "metadata": {}
  },
  {
   "cell_type": "markdown",
   "source": [
    "### Plot gender map"
   ],
   "metadata": {}
  },
  {
   "cell_type": "code",
   "execution_count": null,
   "source": [
    "import matplotlib.pyplot as plt\r\n",
    "from matplotlib.colors import TwoSlopeNorm\r\n",
    "import geopandas as gpd\r\n",
    "from geopandas import GeoDataFrame"
   ],
   "outputs": [],
   "metadata": {}
  },
  {
   "cell_type": "code",
   "execution_count": null,
   "source": [
    "map_df = {}\r\n",
    "\r\n",
    "map_df[\"map_2014\"] = gpd.read_file(f'{dataFolderName}/province_shapes/Prov01012014_g/Prov01012014_g_WGS84.shp')\r\n",
    "\r\n",
    "for year in range(2015,2018):\r\n",
    "    fp = f'{dataFolderName}/province_shapes/ProvCM01012017_g/ProvCM01012017_g_WGS84.shp'\r\n",
    "    \r\n",
    "    map_df[f\"map_{year}\"] = gpd.read_file(fp) #reading the file stored in variable fp\r\n",
    "\r\n",
    "    map_df[f\"map_{year}\"].loc[map_df[f\"map_{year}\"].DEN_PCM==\"Aosta\",\"DEN_PCM\"] = \"Valle d'Aosta/Vallée d'Aoste\"\r\n",
    "    map_df[f\"map_{year}\"].loc[map_df[f\"map_{year}\"].DEN_PCM==\"Forli'-Cesena\",\"DEN_PCM\"] = \"Forlì-Cesena\"\r\n",
    "    map_df[f\"map_{year}\"].loc[map_df[f\"map_{year}\"].DEN_PCM==\"Massa Carrara\",\"DEN_PCM\"] = \"Massa-Carrara\"\r\n",
    "    map_df[f\"map_{year}\"].loc[map_df[f\"map_{year}\"].DEN_PCM==\"Bolzano\",\"DEN_PCM\"] = \"Bolzano/Bozen\"\r\n",
    "\r\n",
    "    # print(map_df[f\"map_{year}\"].plot())\r\n",
    "# map_df['map_2015']"
   ],
   "outputs": [],
   "metadata": {}
  },
  {
   "cell_type": "code",
   "execution_count": null,
   "source": [
    "# consider only province data\r\n",
    "df_sex_province = df_sex[df_sex['ITTER107'].str.contains('.{5}')]\r\n",
    "\r\n",
    "df_sex_province_year = {}\r\n",
    "for year in range(2014,2018):\r\n",
    "    temp = df_sex_province.query(f'TIME=={year}')\r\n",
    "    temp_f = temp.query('Sesso==\"maschi\"').set_index('ITTER107').drop('Sesso',axis=1)\r\n",
    "    temp_d = temp.query('Sesso==\"femmine\"').set_index('ITTER107')\r\n",
    "    temp_f['Value'] = [temp_f['Value'][prov]-temp_d['Value'][prov] for prov in temp['ITTER107'].drop_duplicates()]\r\n",
    "    df_sex_province_year[f'group_{year}'] = temp_f\r\n",
    "\r\n",
    "del temp, temp_d, temp_f\r\n",
    "# df_sex_province_year[\"group_2014\"]"
   ],
   "outputs": [],
   "metadata": {}
  },
  {
   "cell_type": "code",
   "execution_count": null,
   "source": [
    "# merge data with map shapes\r\n",
    "merged = {}\r\n",
    "for year in range(2014,2018):\r\n",
    "    merged[f'merged_{year}'] = df_sex_province_year[f'group_{year}'].set_index('Territorio').join(\r\n",
    "        map_df[f'map_{year}'].set_index('DEN_PROV' if year==2014 else 'DEN_PCM'))\r\n",
    "    # if year==2015: print(merged[f'merged_{year}'][merged[f'merged_{year}'].isnull().any(axis=1)].drop_duplicates())"
   ],
   "outputs": [],
   "metadata": {}
  },
  {
   "cell_type": "code",
   "execution_count": null,
   "source": [
    "vmax = 0\r\n",
    "for year in range(2014,2018):\r\n",
    "    merged[f'merged_{year}'] = GeoDataFrame(merged[f'merged_{year}'])\r\n",
    "    temp = round(merged[f'merged_{year}']['Value'].abs().max())\r\n",
    "    if temp > vmax: vmax = temp\r\n",
    "\r\n",
    "vmin, vcenter = -vmax, 0           # set the range for the choropleth\r\n",
    "\r\n",
    "variable = 'Value'\r\n",
    "color_map = 'RdBu'\r\n",
    "\r\n",
    "fig, ax = plt.subplots(1, figsize=(10, 6))  # create figure and axes for Matplotlib\r\n",
    "ax.axis('off')  # remove the axis\r\n",
    "ax.set_title('Gender salary difference', fontdict={'fontsize': '25', 'fontweight' : '3'}) # add a title\r\n",
    "\r\n",
    "# create an annotation for the data source\r\n",
    "ax.annotate('Source: Istat', xy=(0.1, .08), xycoords='figure fraction', horizontalalignment='left',\r\n",
    "    verticalalignment='top', fontsize=12, color='#555555')\r\n",
    "\r\n",
    "norm = TwoSlopeNorm(vmin=vmin, vcenter=vcenter, vmax=vmax)\r\n",
    "\r\n",
    "merged[f'merged_2015'].plot(column=variable, cmap=color_map, linewidth=0.01, ax=ax, edgecolor='0.8', norm=norm)\r\n",
    "\r\n",
    "sm = plt.cm.ScalarMappable(norm=norm, cmap=color_map)\r\n",
    "cbar = fig.colorbar(sm)                                     # add the colorbar to the figure\r\n",
    "\r\n",
    "# fig.savefig('map_export.png', dpi=300)        #saving our map as .png file."
   ],
   "outputs": [],
   "metadata": {}
  },
  {
   "cell_type": "markdown",
   "source": [
    "## Question 2\r\n",
    "In private companies, are salaries higher in northern Italy than in the south? (Where do people earn more? Maybe divide by principal/worker/apprentice)"
   ],
   "metadata": {}
  },
  {
   "cell_type": "code",
   "execution_count": null,
   "source": [],
   "outputs": [],
   "metadata": {}
  },
  {
   "cell_type": "markdown",
   "source": [
    "## Question 3\r\n",
    "What are the sectors for which the salaries in private companies are highest in Italy?"
   ],
   "metadata": {}
  },
  {
   "cell_type": "code",
   "execution_count": null,
   "source": [
    "import plotly.graph_objects as go\r\n",
    "from ipywidgets import interact"
   ],
   "outputs": [],
   "metadata": {}
  },
  {
   "cell_type": "code",
   "execution_count": null,
   "source": [
    "df_sectors_tot = df_sectors.query('Sesso==\"totale\" & `Classe di età`==\"totale\" & \\\r\n",
    "                              `Classe di dipendenti`==\"totale\" & `Qualifica contrattuale`==\"totale\"'\r\n",
    "                              )[['Ateco 2007','TIME','Value']]"
   ],
   "outputs": [],
   "metadata": {}
  },
  {
   "cell_type": "code",
   "execution_count": null,
   "source": [
    "# rename sectors in english\r\n",
    "it_sec_names = [\r\n",
    "    \"estrazione di minerali da cave e miniere\", \"attività manifatturiere\", \r\n",
    "    \"fornitura di energia elettrica, gas, vapore e aria condizionata\",\r\n",
    "    \"fornitura di acqua reti fognarie, attività di gestione dei rifiuti e risanamento\",\r\n",
    "    \"costruzioni\",\"commercio all'ingrosso e al dettaglio, riparazione di autoveicoli e motocicli\",\r\n",
    "    \"trasporto e magazzinaggio\",\"attività dei servizi di alloggio e di ristorazione\",\r\n",
    "    \"servizi di informazione e comunicazione\",\"attività finanziarie e assicurative\",\r\n",
    "    \"attività immobiliari\",\"attività professionali, scientifiche e tecniche\",\r\n",
    "    \"noleggio, agenzie di viaggio, servizi di supporto alle imprese\",\"istruzione\",\r\n",
    "    \"sanità e assistenza sociale\",\"attività artistiche, sportive, di intrattenimento e divertimento\",\r\n",
    "    \"altre attività di servizi\"\r\n",
    "    ]\r\n",
    "en_sec_names = [\r\n",
    "    \"extraction of minerals from quarries and mines\", \"manufacturing activities\",\r\n",
    "    \"supply of electricity, gas, steam and air conditioning\",\r\n",
    "    \"water supply sewerage, waste management and sanitation activities\",\r\n",
    "    \"constructions\",\"wholesale and retail trade, repair of motor vehicles and motorcycles\",\r\n",
    "    \"transport and storage\",\"accommodation and food service activities\",\r\n",
    "    \"information and communication services\", \"financial and insurance activities\",\r\n",
    "    \"real estate activities\", \"professional, scientific and technical activities\",\r\n",
    "    \"rental, travel agencies, business support services\", \"education\",\r\n",
    "    \"health and social work\", \"arts, sports, entertainment and recreation\",\r\n",
    "    \"other service activities\"\r\n",
    "    ]\r\n",
    "for i in range(0, len(it_sec_names)):\r\n",
    "    df_sectors_tot.loc[df_sectors_tot['Ateco 2007']==it_sec_names[i],\"Ateco 2007\"] = en_sec_names[i]\r\n",
    "\r\n",
    "# df_sectors_tot"
   ],
   "outputs": [],
   "metadata": {}
  },
  {
   "cell_type": "code",
   "execution_count": null,
   "source": [
    "howManyEls=3\r\n",
    "df_new = pd.DataFrame(columns=['Ateco 2007','TIME','Value'])\r\n",
    "\r\n",
    "for year in range(2014,2018,1):\r\n",
    "  tmp = df_sectors_tot.query(f'TIME=={year}').sort_values(by='Value')\r\n",
    "  df_new = df_new.append(tmp.head(howManyEls))\r\n",
    "  \r\n",
    "  others = {'Ateco 2007':['others'],'TIME':[year],'Value':[round(np.average(tmp.head(-howManyEls).tail(-howManyEls)[\"Value\"]),2)]}\r\n",
    "  tmp_others = pd.DataFrame(others,columns=['Ateco 2007','TIME','Value'])\r\n",
    "  df_new = df_new.append(tmp_others)\r\n",
    "  \r\n",
    "  df_new = df_new.append(tmp.tail(howManyEls))\r\n",
    "\r\n",
    "df_new = df_new.sort_values(by='Value').reset_index()\r\n",
    "\r\n",
    "fig = px.bar(df_new, x=\"Value\", y=\"Ateco 2007\", text=\"Value\",\r\n",
    "  animation_frame=\"TIME\", range_x=[0,df_new['Value'].max()*1.1])\r\n",
    "\r\n",
    "fig.update_traces(texttemplate='%{text:.2f} ', textposition='inside')\r\n",
    "\r\n",
    "fig.update_layout(\r\n",
    "      xaxis=dict( showgrid=False, showline=False ),\r\n",
    "      yaxis=dict( showgrid=False, showline=False, ),\r\n",
    "      paper_bgcolor='rgb(248, 248, 255)',\r\n",
    "      plot_bgcolor='rgb(248, 248, 255)',\r\n",
    "    )\r\n",
    "\r\n",
    "fig.layout.updatemenus[0].buttons[0].args[1]['frame']['duration'] = 1000\r\n",
    "# fig.layout.updatemenus[0].buttons[0].args[1]['transition']['duration'] = 1\r\n",
    "  \r\n",
    "fig.show(\"notebook\")"
   ],
   "outputs": [],
   "metadata": {}
  }
 ],
 "metadata": {
  "kernelspec": {
   "name": "python3",
   "display_name": "Python 3.9.7 64-bit (windows store)"
  },
  "language_info": {
   "codemirror_mode": {
    "name": "ipython",
    "version": 3
   },
   "file_extension": ".py",
   "mimetype": "text/x-python",
   "name": "python",
   "nbconvert_exporter": "python",
   "pygments_lexer": "ipython3",
   "version": "3.9.7"
  },
  "interpreter": {
   "hash": "0a7bcdce5e7de3fa1d95f97898f0ba64b04cd3f3c86a5acc783c9d14c07e9707"
  }
 },
 "nbformat": 4,
 "nbformat_minor": 4
}