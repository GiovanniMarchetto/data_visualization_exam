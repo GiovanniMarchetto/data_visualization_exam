{
 "cells": [
  {
   "cell_type": "markdown",
   "source": [
    "# Data Visualization Exam"
   ],
   "metadata": {}
  },
  {
   "cell_type": "code",
   "execution_count": null,
   "source": [
    "import pandas as pd\r\n",
    "import plotly.graph_objs as go\r\n",
    "import plotly.express as px\r\n",
    "import numpy as np\r\n",
    "\r\n",
    "from zipfile import ZipFile\r\n",
    "import shutil"
   ],
   "outputs": [],
   "metadata": {}
  },
  {
   "cell_type": "markdown",
   "source": [
    "## Data acquisition\r\n",
    "CSV file creation from raw data and loading the CSV file into the program."
   ],
   "metadata": {}
  },
  {
   "cell_type": "code",
   "execution_count": null,
   "source": [
    "dataFolderName = \"data\"\r\n",
    "fileName = dataFolderName + '/DCSC_RACLI_01092021113430630.csv'\r\n",
    "df = pd.read_csv(fileName)      # load data from CSV to program\r\n",
    "df.head() # data loaded"
   ],
   "outputs": [],
   "metadata": {}
  },
  {
   "cell_type": "markdown",
   "source": [
    "## Data parsing"
   ],
   "metadata": {}
  },
  {
   "cell_type": "code",
   "execution_count": null,
   "source": [
    "# TODO: Check for errors in data\r\n",
    "#       total is equal to the arithmetic mean of the parts? not seem\r\n",
    "#       find missing data\r\n",
    "#   \tcheck that value apprendista < operaio < dirigente (for territory)\r\n",
    "\r\n",
    "print('\\nBefore remove duplicates: ' + str(len(df)) + ' rows')\r\n",
    "df.drop_duplicates()\r\n",
    "print('After remove duplicates:  ' + str(len(df)) + ' rows')\r\n",
    "\r\n",
    "# are values reasonable?\r\n",
    "print('\\nMin value is ' + str(df['Value'].min()))\r\n",
    "print('Max value is ' + str(df['Value'].max()))\r\n",
    "\r\n",
    "# TODO: Change type\r\n",
    "\r\n",
    "# TODO: Choose the level for hierachical data\r\n",
    "\r\n",
    "\r\n",
    "# TODO: Transform the data\r\n",
    "df['Territorio'] = df['Territorio'].str.replace(' / ','/')"
   ],
   "outputs": [],
   "metadata": {}
  },
  {
   "cell_type": "markdown",
   "source": [
    "## Data filtering"
   ],
   "metadata": {}
  },
  {
   "cell_type": "code",
   "execution_count": null,
   "source": [
    "df2 = df.copy()\r\n",
    "\r\n",
    "# unique data\r\n",
    "del df2['TIPO_DATO7'] # always the same (HOUWAG_ENTEMP_AV_MI)\r\n",
    "del df2['Tipo dato']  # always the same (Retribuzione lorda oraria per ora retribuita delle posizioni lavorative dipendenti in euro (media).)\r\n",
    "\r\n",
    "# ridondance of information\r\n",
    "df2 = df2.drop(['SEXISTAT1', 'ETA1_A','PROFILO_PROF','CLLVT','Seleziona periodo'], axis=1)\r\n",
    "# del df2['ATECO_2007']\r\n",
    "\r\n",
    "df2 = df2[df2['Flag Codes'] != 'c'] # delete incomplete data\r\n",
    "\r\n",
    "del df2['Flags']\r\n",
    "del df2['Flag Codes']\r\n",
    "\r\n",
    "df2.head()"
   ],
   "outputs": [],
   "metadata": {}
  },
  {
   "cell_type": "markdown",
   "source": [
    "## Data mining"
   ],
   "metadata": {}
  },
  {
   "cell_type": "code",
   "execution_count": null,
   "source": [
    "# granularity of sectors exists only for entire Italy (no territorial granularity)\r\n",
    "df_sectors = df2.query('`Ateco 2007`!=\"TOTALE\"')\r\n",
    "\r\n",
    "# choose granularity of sectors\r\n",
    "df_sectors = df_sectors.query('`ATECO_2007`>=\"A\" & `ATECO_2007`<=\"Z\"')\r\n",
    "\r\n",
    "df_sectors = df_sectors.drop(['Territorio', 'ATECO_2007'], axis=1)"
   ],
   "outputs": [],
   "metadata": {}
  },
  {
   "cell_type": "code",
   "execution_count": null,
   "source": [
    "df_territory = df2.query('`Ateco 2007`==\"TOTALE\"')\r\n",
    "df_territory = df_territory.drop(['Ateco 2007', 'ATECO_2007'], axis=1)"
   ],
   "outputs": [],
   "metadata": {}
  },
  {
   "cell_type": "code",
   "execution_count": null,
   "source": [
    "# TODO: start with univariate analysis (one variable at a time), continue with multivariate analysis"
   ],
   "outputs": [],
   "metadata": {}
  },
  {
   "cell_type": "markdown",
   "source": [
    "## Question 1\r\n",
    "Do women earn less than men in Italy in private companies? Where is the most difference?"
   ],
   "metadata": {}
  },
  {
   "cell_type": "code",
   "execution_count": null,
   "source": [
    "df_sex = df_territory.query('Sesso!=\"totale\"')\r\n",
    "df_sex = df_sex.drop(['Classe di età','Qualifica contrattuale','Classe di dipendenti'],axis=1)\r\n",
    "len(df_sex)"
   ],
   "outputs": [],
   "metadata": {}
  },
  {
   "cell_type": "markdown",
   "source": [
    "### Plot line chart"
   ],
   "metadata": {}
  },
  {
   "cell_type": "code",
   "execution_count": null,
   "source": [
    "# df_sex_tot = df_sex.query('Territorio==\"Italia\"')\r\n",
    "\r\n",
    "# title = 'Gender difference salary in Italy'\r\n",
    "# labels = ['Men','Women']\r\n",
    "# colors = ['rgb(67,67,67)', 'rgb(115,115,115)']\r\n",
    "# mode_size = [8, 8]\r\n",
    "# line_size = [2, 2]\r\n",
    "\r\n",
    "# x_data = np.vstack((np.arange(df_sex_tot.TIME.min(), df_sex_tot.TIME.max()+1),)*2)\r\n",
    "\r\n",
    "# df_sex_tot.sort_values(by='TIME')\r\n",
    "# y_tot_m = df_sex_tot.query('Sesso==\"maschi\"')\r\n",
    "# y_tot_w = df_sex_tot.query('Sesso==\"femmine\"')\r\n",
    "# y_data = np.array([y_tot_m['Value'],y_tot_w['Value']])\r\n",
    "\r\n",
    "# fig = go.Figure()\r\n",
    "\r\n",
    "# for i in range(0, 2):\r\n",
    "#     fig.add_trace(go.Scatter(x=x_data[i], y=y_data[i], mode='lines',\r\n",
    "#         name=labels[i],\r\n",
    "#         line=dict(color=colors[i], width=line_size[i]),\r\n",
    "#         connectgaps=True,\r\n",
    "#     ))\r\n",
    "\r\n",
    "#     # endpoints\r\n",
    "#     fig.add_trace(go.Scatter(\r\n",
    "#         x=[x_data[i][0], x_data[i][-1]],\r\n",
    "#         y=[y_data[i][0], y_data[i][-1]],\r\n",
    "#         mode='markers',\r\n",
    "#         marker=dict(color=colors[i], size=mode_size[i])\r\n",
    "#     ))\r\n",
    "\r\n",
    "# fig.update_layout(\r\n",
    "#     xaxis=dict(\r\n",
    "#         showline=True,\r\n",
    "#         showgrid=False,\r\n",
    "#         showticklabels=True,\r\n",
    "#         linecolor='rgb(204, 204, 204)',\r\n",
    "#         linewidth=2,\r\n",
    "#         ticks='outside',\r\n",
    "#         tickfont=dict(\r\n",
    "#             family='Arial',\r\n",
    "#             size=12,\r\n",
    "#             color='rgb(82, 82, 82)'\r\n",
    "#         )\r\n",
    "#     ),\r\n",
    "#     yaxis=dict(\r\n",
    "#         showgrid=True,\r\n",
    "#         zeroline=True,\r\n",
    "#         showline=True,\r\n",
    "#         showticklabels=True,\r\n",
    "#         range = [0, max(df_sex_tot['Value'])]\r\n",
    "#     ),\r\n",
    "#     autosize=False,\r\n",
    "#     margin=dict(\r\n",
    "#         autoexpand=False,\r\n",
    "#         l=100,\r\n",
    "#         r=20,\r\n",
    "#         t=110,\r\n",
    "#     ),\r\n",
    "#     showlegend=False,\r\n",
    "#     plot_bgcolor='white'\r\n",
    "# )\r\n",
    "\r\n",
    "# annotations = []\r\n",
    "\r\n",
    "# # Adding labels\r\n",
    "# for y_trace, label, color in zip(y_data, labels, colors):\r\n",
    "#     # labeling the left_side of the plot\r\n",
    "#     annotations.append(dict(xref='paper', x=0.05, y=y_trace[0],\r\n",
    "#                                   xanchor='right', yanchor='middle',\r\n",
    "#                                   text=label + ' {}'.format(y_trace[0]),\r\n",
    "#                                   font=dict(family='Arial',\r\n",
    "#                                             size=16),\r\n",
    "#                                   showarrow=False))\r\n",
    "#     # labeling the right_side of the plot\r\n",
    "#     annotations.append(dict(xref='paper', x=0.95, y=y_trace[2],\r\n",
    "#                                   xanchor='left', yanchor='middle',\r\n",
    "#                                   text='{}'.format(y_trace[2]),\r\n",
    "#                                   font=dict(family='Arial',\r\n",
    "#                                             size=16),\r\n",
    "#                                   showarrow=False))\r\n",
    "# # Title\r\n",
    "# annotations.append(dict(xref='paper', yref='paper', x=0.0, y=1.05,\r\n",
    "#                               xanchor='left', yanchor='bottom',\r\n",
    "#                               text=title,\r\n",
    "#                               font=dict(family='Arial',\r\n",
    "#                                         size=30,\r\n",
    "#                                         color='rgb(37,37,37)'),\r\n",
    "#                               showarrow=False))\r\n",
    "# # Source\r\n",
    "# annotations.append(dict(xref='paper', yref='paper', x=0.5, y=-0.1,\r\n",
    "#                               xanchor='center', yanchor='top',\r\n",
    "#                               text='Source: PewResearch Center & ' +\r\n",
    "#                                    'Storytelling with data',\r\n",
    "#                               font=dict(family='Arial',\r\n",
    "#                                         size=12,\r\n",
    "#                                         color='rgb(150,150,150)'),\r\n",
    "#                               showarrow=False))\r\n",
    "\r\n",
    "# fig.update_layout(annotations=annotations)\r\n",
    "\r\n",
    "# fig.show()"
   ],
   "outputs": [],
   "metadata": {}
  },
  {
   "cell_type": "code",
   "execution_count": null,
   "source": [
    "# fig = go.Figure()\r\n",
    "\r\n",
    "# for i in range(0, 2):\r\n",
    "#     fig.add_trace(go.Scatter(x=x_data[i], y=y_data[i], mode='lines',\r\n",
    "#         name=labels[i],\r\n",
    "#         line=dict(color=colors[i], width=line_size[i]),\r\n",
    "#         connectgaps=True,\r\n",
    "#     ))\r\n",
    "\r\n",
    "#     # endpoints\r\n",
    "#     fig.add_trace(go.Scatter(\r\n",
    "#         x=[x_data[i][0], x_data[i][-1]],\r\n",
    "#         y=[y_data[i][0], y_data[i][-1]],\r\n",
    "#         mode='markers',\r\n",
    "#         marker=dict(color=colors[i], size=mode_size[i])\r\n",
    "#     ))\r\n",
    "\r\n",
    "# fig.update_layout(\r\n",
    "#     xaxis=dict(\r\n",
    "#         showline=True,\r\n",
    "#         showgrid=False,\r\n",
    "#         showticklabels=True,\r\n",
    "#         linecolor='rgb(204, 204, 204)',\r\n",
    "#         linewidth=2,\r\n",
    "#         ticks='outside',\r\n",
    "#         tickfont=dict(\r\n",
    "#             family='Arial',\r\n",
    "#             size=12,\r\n",
    "#             color='rgb(82, 82, 82)',\r\n",
    "#         ),\r\n",
    "#     ),\r\n",
    "#     yaxis=dict(\r\n",
    "#         showgrid=False,\r\n",
    "#         zeroline=False,\r\n",
    "#         showline=False,\r\n",
    "#         showticklabels=False,\r\n",
    "#     ),\r\n",
    "#     autosize=False,\r\n",
    "#     margin=dict(\r\n",
    "#         autoexpand=False,\r\n",
    "#         l=100,\r\n",
    "#         r=20,\r\n",
    "#         t=110,\r\n",
    "#     ),\r\n",
    "#     showlegend=False,\r\n",
    "#     plot_bgcolor='white'\r\n",
    "# )\r\n",
    "\r\n",
    "# annotations = []\r\n",
    "\r\n",
    "# # Adding labels\r\n",
    "# for y_trace, label, color in zip(y_data, labels, colors):\r\n",
    "#     # labeling the left_side of the plot\r\n",
    "#     annotations.append(dict(xref='paper', x=0.05, y=y_trace[0],\r\n",
    "#                                   xanchor='right', yanchor='middle',\r\n",
    "#                                   text=label + ' {}'.format(y_trace[0]),\r\n",
    "#                                   font=dict(family='Arial',\r\n",
    "#                                             size=16),\r\n",
    "#                                   showarrow=False))\r\n",
    "#     # labeling the right_side of the plot\r\n",
    "#     annotations.append(dict(xref='paper', x=0.95, y=y_trace[2],\r\n",
    "#                                   xanchor='left', yanchor='middle',\r\n",
    "#                                   text='{}'.format(y_trace[2]),\r\n",
    "#                                   font=dict(family='Arial',\r\n",
    "#                                             size=16),\r\n",
    "#                                   showarrow=False))\r\n",
    "# # Title\r\n",
    "# annotations.append(dict(xref='paper', yref='paper', x=0.0, y=1.05,\r\n",
    "#                               xanchor='left', yanchor='bottom',\r\n",
    "#                               text=title,\r\n",
    "#                               font=dict(family='Arial',\r\n",
    "#                                         size=30,\r\n",
    "#                                         color='rgb(37,37,37)'),\r\n",
    "#                               showarrow=False))\r\n",
    "# # Source\r\n",
    "# annotations.append(dict(xref='paper', yref='paper', x=0.5, y=-0.1,\r\n",
    "#                               xanchor='center', yanchor='top',\r\n",
    "#                               text='Source: PewResearch Center & ' +\r\n",
    "#                                    'Storytelling with data',\r\n",
    "#                               font=dict(family='Arial',\r\n",
    "#                                         size=12,\r\n",
    "#                                         color='rgb(150,150,150)'),\r\n",
    "#                               showarrow=False))\r\n",
    "\r\n",
    "# fig.update_layout(annotations=annotations)\r\n",
    "\r\n",
    "# fig.show()"
   ],
   "outputs": [],
   "metadata": {}
  },
  {
   "cell_type": "markdown",
   "source": [
    "### Plot gender map"
   ],
   "metadata": {}
  },
  {
   "cell_type": "code",
   "execution_count": null,
   "source": [
    "import matplotlib.pyplot as plt\r\n",
    "from matplotlib.colors import TwoSlopeNorm\r\n",
    "import geopandas as gpd\r\n",
    "from geopandas import GeoDataFrame"
   ],
   "outputs": [],
   "metadata": {}
  },
  {
   "cell_type": "code",
   "execution_count": null,
   "source": [
    "map_df = {}\r\n",
    "\r\n",
    "map_df[\"map_2014\"] = gpd.read_file(f'{dataFolderName}/province_shapes/Prov01012014_g/Prov01012014_g_WGS84.shp')\r\n",
    "\r\n",
    "for year in range(2015,2018):\r\n",
    "    fp = f'{dataFolderName}/province_shapes/ProvCM01012017_g/ProvCM01012017_g_WGS84.shp'\r\n",
    "    \r\n",
    "    map_df[f\"map_{year}\"] = gpd.read_file(fp) #reading the file stored in variable fp\r\n",
    "\r\n",
    "    map_df[f\"map_{year}\"].loc[map_df[f\"map_{year}\"].DEN_PCM==\"Aosta\",\"DEN_PCM\"] = \"Valle d'Aosta/Vallée d'Aoste\"\r\n",
    "    map_df[f\"map_{year}\"].loc[map_df[f\"map_{year}\"].DEN_PCM==\"Forli'-Cesena\",\"DEN_PCM\"] = \"Forlì-Cesena\"\r\n",
    "    map_df[f\"map_{year}\"].loc[map_df[f\"map_{year}\"].DEN_PCM==\"Massa Carrara\",\"DEN_PCM\"] = \"Massa-Carrara\"\r\n",
    "    map_df[f\"map_{year}\"].loc[map_df[f\"map_{year}\"].DEN_PCM==\"Bolzano\",\"DEN_PCM\"] = \"Bolzano/Bozen\"\r\n",
    "\r\n",
    "    # print(map_df[f\"map_{year}\"].plot())\r\n",
    "# map_df['map_2015']"
   ],
   "outputs": [],
   "metadata": {}
  },
  {
   "cell_type": "code",
   "execution_count": null,
   "source": [
    "# consider only province data\r\n",
    "df_sex_province = df_sex[df_sex['ITTER107'].str.contains('.{5}')]\r\n",
    "\r\n",
    "df_sex_province_year = {}\r\n",
    "for year in range(2014,2018):\r\n",
    "    temp = df_sex_province.query(f'TIME=={year}')\r\n",
    "    temp_f = temp.query('Sesso==\"maschi\"').set_index('ITTER107').drop('Sesso',axis=1)\r\n",
    "    temp_d = temp.query('Sesso==\"femmine\"').set_index('ITTER107')\r\n",
    "    temp_f['Value'] = [temp_f['Value'][prov]-temp_d['Value'][prov] for prov in temp['ITTER107'].drop_duplicates()]\r\n",
    "    df_sex_province_year[f'group_{year}'] = temp_f\r\n",
    "\r\n",
    "del temp, temp_d, temp_f\r\n",
    "# df_sex_province_year[\"group_2014\"]"
   ],
   "outputs": [],
   "metadata": {}
  },
  {
   "cell_type": "code",
   "execution_count": null,
   "source": [
    "# merge data with map shapes\r\n",
    "merged = {}\r\n",
    "for year in range(2014,2018):\r\n",
    "    merged[f'merged_{year}'] = df_sex_province_year[f'group_{year}'].set_index('Territorio').join(\r\n",
    "        map_df[f'map_{year}'].set_index('DEN_PROV' if year==2014 else 'DEN_PCM'))\r\n",
    "    # if year==2015: print(merged[f'merged_{year}'][merged[f'merged_{year}'].isnull().any(axis=1)].drop_duplicates())"
   ],
   "outputs": [],
   "metadata": {}
  },
  {
   "cell_type": "code",
   "execution_count": null,
   "source": [
    "vmax = 0\r\n",
    "for year in range(2014,2018):\r\n",
    "    merged[f'merged_{year}'] = GeoDataFrame(merged[f'merged_{year}'])\r\n",
    "    temp = round(merged[f'merged_{year}']['Value'].abs().max())\r\n",
    "    if temp > vmax: vmax = temp\r\n",
    "\r\n",
    "vmin, vcenter = -vmax, 0           # set the range for the choropleth\r\n",
    "\r\n",
    "variable = 'Value'\r\n",
    "color_map = 'RdBu'\r\n",
    "\r\n",
    "fig, ax = plt.subplots(1, figsize=(10, 6))  # create figure and axes for Matplotlib\r\n",
    "ax.axis('off')  # remove the axis\r\n",
    "ax.set_title('Gender salary difference', fontdict={'fontsize': '25', 'fontweight' : '3'}) # add a title\r\n",
    "\r\n",
    "# create an annotation for the data source\r\n",
    "ax.annotate('Source: Istat', xy=(0.1, .08), xycoords='figure fraction', horizontalalignment='left',\r\n",
    "    verticalalignment='top', fontsize=12, color='#555555')\r\n",
    "\r\n",
    "norm = TwoSlopeNorm(vmin=vmin, vcenter=vcenter, vmax=vmax)\r\n",
    "\r\n",
    "merged[f'merged_2015'].plot(column=variable, cmap=color_map, linewidth=0.01, ax=ax, edgecolor='0.8', norm=norm)\r\n",
    "\r\n",
    "sm = plt.cm.ScalarMappable(norm=norm, cmap=color_map)\r\n",
    "cbar = fig.colorbar(sm)                                     # add the colorbar to the figure\r\n",
    "\r\n",
    "# fig.savefig('map_export.png', dpi=300)        #saving our map as .png file."
   ],
   "outputs": [],
   "metadata": {}
  }
 ],
 "metadata": {
  "kernelspec": {
   "name": "python3",
   "display_name": "Python 3.9.7 64-bit (windows store)"
  },
  "language_info": {
   "codemirror_mode": {
    "name": "ipython",
    "version": 3
   },
   "file_extension": ".py",
   "mimetype": "text/x-python",
   "name": "python",
   "nbconvert_exporter": "python",
   "pygments_lexer": "ipython3",
   "version": "3.9.7"
  },
  "interpreter": {
   "hash": "0a7bcdce5e7de3fa1d95f97898f0ba64b04cd3f3c86a5acc783c9d14c07e9707"
  }
 },
 "nbformat": 4,
 "nbformat_minor": 4
}