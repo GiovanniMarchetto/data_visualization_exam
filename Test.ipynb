{
 "cells": [
  {
   "cell_type": "markdown",
   "source": [
    "# Data Visualization Exam"
   ],
   "metadata": {}
  },
  {
   "cell_type": "code",
   "execution_count": null,
   "source": [
    "import pandas as pd\r\n",
    "import plotly.graph_objs as go\r\n",
    "import plotly.express as px\r\n",
    "import numpy as np\r\n",
    "\r\n",
    "from zipfile import ZipFile\r\n",
    "import shutil"
   ],
   "outputs": [],
   "metadata": {}
  },
  {
   "cell_type": "markdown",
   "source": [
    "## Data acquisition\r\n",
    "CSV file creation from raw data and loading the CSV file into the program."
   ],
   "metadata": {}
  },
  {
   "cell_type": "code",
   "execution_count": null,
   "source": [
    "dataFolderName = \"data\"\r\n",
    "fileName = dataFolderName + '/DCSC_RACLI_01092021113430630.csv'\r\n",
    "df = pd.read_csv(fileName)      # load data from CSV to program\r\n",
    "df.head() # data loaded"
   ],
   "outputs": [],
   "metadata": {}
  },
  {
   "cell_type": "markdown",
   "source": [
    "## Data parsing"
   ],
   "metadata": {}
  },
  {
   "cell_type": "code",
   "execution_count": null,
   "source": [
    "# TODO: Check for errors in data\r\n",
    "#       total is equal to the arithmetic mean of the parts? not seem\r\n",
    "#       find missing data\r\n",
    "#   \tcheck that value apprendista < operaio < dirigente (for territory)\r\n",
    "\r\n",
    "print('\\nBefore remove duplicates: ' + str(len(df)) + ' rows')\r\n",
    "df.drop_duplicates()\r\n",
    "print('After remove duplicates:  ' + str(len(df)) + ' rows')\r\n",
    "\r\n",
    "# are values reasonable?\r\n",
    "print('\\nMin value is ' + str(df['Value'].min()))\r\n",
    "print('Max value is ' + str(df['Value'].max()))\r\n",
    "\r\n",
    "# TODO: Change type\r\n",
    "\r\n",
    "# TODO: Choose the level for hierachical data\r\n",
    "\r\n",
    "\r\n",
    "# TODO: Transform the data\r\n",
    "df['Territorio'] = df['Territorio'].str.replace(' / ','/')"
   ],
   "outputs": [],
   "metadata": {}
  },
  {
   "cell_type": "markdown",
   "source": [
    "## Data filtering"
   ],
   "metadata": {}
  },
  {
   "cell_type": "code",
   "execution_count": null,
   "source": [
    "df2 = df.copy()\r\n",
    "\r\n",
    "# unique data\r\n",
    "del df2['TIPO_DATO7'] # always the same (HOUWAG_ENTEMP_AV_MI)\r\n",
    "del df2['Tipo dato']  # always the same (Retribuzione lorda oraria per ora retribuita delle posizioni lavorative dipendenti in euro (media).)\r\n",
    "\r\n",
    "# ridondance of information\r\n",
    "df2 = df2.drop(['SEXISTAT1', 'ETA1_A','PROFILO_PROF','CLLVT','Seleziona periodo'], axis=1)\r\n",
    "# del df2['ATECO_2007']\r\n",
    "\r\n",
    "df2 = df2[df2['Flag Codes'] != 'c'] # delete incomplete data\r\n",
    "\r\n",
    "del df2['Flags']\r\n",
    "del df2['Flag Codes']\r\n",
    "\r\n",
    "df2.head()"
   ],
   "outputs": [],
   "metadata": {}
  },
  {
   "cell_type": "markdown",
   "source": [
    "## Data mining"
   ],
   "metadata": {}
  },
  {
   "cell_type": "code",
   "execution_count": null,
   "source": [
    "# granularity of sectors exists only for entire Italy (no territorial granularity)\r\n",
    "df_sectors = df2.query('`Ateco 2007`!=\"TOTALE\"')\r\n",
    "\r\n",
    "# choose granularity of sectors\r\n",
    "df_sectors = df_sectors.query('`ATECO_2007`>=\"A\" & `ATECO_2007`<=\"Z\"')\r\n",
    "\r\n",
    "df_sectors = df_sectors.drop(['Territorio', 'ATECO_2007'], axis=1)"
   ],
   "outputs": [],
   "metadata": {}
  },
  {
   "cell_type": "code",
   "execution_count": null,
   "source": [
    "df_territory = df2.query('`Ateco 2007`==\"TOTALE\"')\r\n",
    "df_territory = df_territory.drop(['Ateco 2007', 'ATECO_2007'], axis=1)"
   ],
   "outputs": [],
   "metadata": {}
  },
  {
   "cell_type": "code",
   "execution_count": null,
   "source": [
    "# TODO: start with univariate analysis (one variable at a time), continue with multivariate analysis"
   ],
   "outputs": [],
   "metadata": {}
  },
  {
   "cell_type": "markdown",
   "source": [
    "## Question 1\r\n",
    "Do women earn less than men in Italy in private companies? Where is the most difference?"
   ],
   "metadata": {}
  },
  {
   "cell_type": "code",
   "execution_count": null,
   "source": [
    "df_sex = df_territory.query('Sesso!=\"totale\"')\r\n",
    "df_sex = df_sex.drop(['Classe di età','Qualifica contrattuale','Classe di dipendenti'],axis=1)\r\n",
    "len(df_sex)"
   ],
   "outputs": [],
   "metadata": {}
  },
  {
   "cell_type": "markdown",
   "source": [
    "### Plot line chart"
   ],
   "metadata": {}
  },
  {
   "cell_type": "code",
   "execution_count": null,
   "source": [
    "\"\"\" df_sex_tot = df_sex.query('Territorio==\"Italia\"')\r\n",
    "\r\n",
    "title = 'Gender difference salary in Italy'\r\n",
    "labels = ['Men','Women']\r\n",
    "colors = ['rgb(67,67,67)', 'rgb(115,115,115)']\r\n",
    "mode_size = [8, 8]\r\n",
    "line_size = [2, 2]\r\n",
    "\r\n",
    "x_data = np.vstack((np.arange(df_sex_tot.TIME.min(), df_sex_tot.TIME.max()+1),)*2)\r\n",
    "\r\n",
    "df_sex_tot.sort_values(by='TIME')\r\n",
    "y_tot_m = df_sex_tot.query('Sesso==\"maschi\"')\r\n",
    "y_tot_w = df_sex_tot.query('Sesso==\"femmine\"')\r\n",
    "y_data = np.array([y_tot_m['Value'],y_tot_w['Value']])\r\n",
    "\r\n",
    "fig = go.Figure()\r\n",
    "\r\n",
    "for i in range(0, 2):\r\n",
    "    fig.add_trace(go.Scatter(x=x_data[i], y=y_data[i], mode='lines',\r\n",
    "        name=labels[i],\r\n",
    "        line=dict(color=colors[i], width=line_size[i]),\r\n",
    "        connectgaps=True,\r\n",
    "    ))\r\n",
    "\r\n",
    "    # endpoints\r\n",
    "    fig.add_trace(go.Scatter(\r\n",
    "        x=[x_data[i][0], x_data[i][-1]],\r\n",
    "        y=[y_data[i][0], y_data[i][-1]],\r\n",
    "        mode='markers',\r\n",
    "        marker=dict(color=colors[i], size=mode_size[i])\r\n",
    "    ))\r\n",
    "\r\n",
    "fig.update_layout(\r\n",
    "    xaxis=dict(\r\n",
    "        showline=True,\r\n",
    "        showgrid=False,\r\n",
    "        showticklabels=True,\r\n",
    "        linecolor='rgb(204, 204, 204)',\r\n",
    "        linewidth=2,\r\n",
    "        ticks='outside',\r\n",
    "        tickfont=dict(\r\n",
    "            family='Arial',\r\n",
    "            size=12,\r\n",
    "            color='rgb(82, 82, 82)'\r\n",
    "        )\r\n",
    "    ),\r\n",
    "    yaxis=dict(\r\n",
    "        showgrid=True,\r\n",
    "        zeroline=True,\r\n",
    "        showline=True,\r\n",
    "        showticklabels=True,\r\n",
    "        range = [0, max(df_sex_tot['Value'])]\r\n",
    "    ),\r\n",
    "    autosize=False,\r\n",
    "    margin=dict(\r\n",
    "        autoexpand=False,\r\n",
    "        l=100,\r\n",
    "        r=20,\r\n",
    "        t=110,\r\n",
    "    ),\r\n",
    "    showlegend=False,\r\n",
    "    plot_bgcolor='white'\r\n",
    ")\r\n",
    "\r\n",
    "annotations = []\r\n",
    "\r\n",
    "# Adding labels\r\n",
    "for y_trace, label, color in zip(y_data, labels, colors):\r\n",
    "    # labeling the left_side of the plot\r\n",
    "    annotations.append(dict(xref='paper', x=0.05, y=y_trace[0],\r\n",
    "                                  xanchor='right', yanchor='middle',\r\n",
    "                                  text=label + ' {}'.format(y_trace[0]),\r\n",
    "                                  font=dict(family='Arial',\r\n",
    "                                            size=16),\r\n",
    "                                  showarrow=False))\r\n",
    "    # labeling the right_side of the plot\r\n",
    "    annotations.append(dict(xref='paper', x=0.95, y=y_trace[2],\r\n",
    "                                  xanchor='left', yanchor='middle',\r\n",
    "                                  text='{}'.format(y_trace[2]),\r\n",
    "                                  font=dict(family='Arial',\r\n",
    "                                            size=16),\r\n",
    "                                  showarrow=False))\r\n",
    "# Title\r\n",
    "annotations.append(dict(xref='paper', yref='paper', x=0.0, y=1.05,\r\n",
    "                              xanchor='left', yanchor='bottom',\r\n",
    "                              text=title,\r\n",
    "                              font=dict(family='Arial',\r\n",
    "                                        size=30,\r\n",
    "                                        color='rgb(37,37,37)'),\r\n",
    "                              showarrow=False))\r\n",
    "# Source\r\n",
    "annotations.append(dict(xref='paper', yref='paper', x=0.5, y=-0.1,\r\n",
    "                              xanchor='center', yanchor='top',\r\n",
    "                              text='Source: PewResearch Center & ' +\r\n",
    "                                   'Storytelling with data',\r\n",
    "                              font=dict(family='Arial',\r\n",
    "                                        size=12,\r\n",
    "                                        color='rgb(150,150,150)'),\r\n",
    "                              showarrow=False))\r\n",
    "\r\n",
    "fig.update_layout(annotations=annotations)\r\n",
    "\r\n",
    "fig.show() \"\"\""
   ],
   "outputs": [],
   "metadata": {}
  },
  {
   "cell_type": "code",
   "execution_count": null,
   "source": [
    "\"\"\" fig = go.Figure()\r\n",
    "\r\n",
    "for i in range(0, 2):\r\n",
    "    fig.add_trace(go.Scatter(x=x_data[i], y=y_data[i], mode='lines',\r\n",
    "        name=labels[i],\r\n",
    "        line=dict(color=colors[i], width=line_size[i]),\r\n",
    "        connectgaps=True,\r\n",
    "    ))\r\n",
    "\r\n",
    "    # endpoints\r\n",
    "    fig.add_trace(go.Scatter(\r\n",
    "        x=[x_data[i][0], x_data[i][-1]],\r\n",
    "        y=[y_data[i][0], y_data[i][-1]],\r\n",
    "        mode='markers',\r\n",
    "        marker=dict(color=colors[i], size=mode_size[i])\r\n",
    "    ))\r\n",
    "\r\n",
    "fig.update_layout(\r\n",
    "    xaxis=dict(\r\n",
    "        showline=True,\r\n",
    "        showgrid=False,\r\n",
    "        showticklabels=True,\r\n",
    "        linecolor='rgb(204, 204, 204)',\r\n",
    "        linewidth=2,\r\n",
    "        ticks='outside',\r\n",
    "        tickfont=dict(\r\n",
    "            family='Arial',\r\n",
    "            size=12,\r\n",
    "            color='rgb(82, 82, 82)',\r\n",
    "        ),\r\n",
    "    ),\r\n",
    "    yaxis=dict(\r\n",
    "        showgrid=False,\r\n",
    "        zeroline=False,\r\n",
    "        showline=False,\r\n",
    "        showticklabels=False,\r\n",
    "    ),\r\n",
    "    autosize=False,\r\n",
    "    margin=dict(\r\n",
    "        autoexpand=False,\r\n",
    "        l=100,\r\n",
    "        r=20,\r\n",
    "        t=110,\r\n",
    "    ),\r\n",
    "    showlegend=False,\r\n",
    "    plot_bgcolor='white'\r\n",
    ")\r\n",
    "\r\n",
    "annotations = []\r\n",
    "\r\n",
    "# Adding labels\r\n",
    "for y_trace, label, color in zip(y_data, labels, colors):\r\n",
    "    # labeling the left_side of the plot\r\n",
    "    annotations.append(dict(xref='paper', x=0.05, y=y_trace[0],\r\n",
    "                                  xanchor='right', yanchor='middle',\r\n",
    "                                  text=label + ' {}'.format(y_trace[0]),\r\n",
    "                                  font=dict(family='Arial',\r\n",
    "                                            size=16),\r\n",
    "                                  showarrow=False))\r\n",
    "    # labeling the right_side of the plot\r\n",
    "    annotations.append(dict(xref='paper', x=0.95, y=y_trace[2],\r\n",
    "                                  xanchor='left', yanchor='middle',\r\n",
    "                                  text='{}'.format(y_trace[2]),\r\n",
    "                                  font=dict(family='Arial',\r\n",
    "                                            size=16),\r\n",
    "                                  showarrow=False))\r\n",
    "# Title\r\n",
    "annotations.append(dict(xref='paper', yref='paper', x=0.0, y=1.05,\r\n",
    "                              xanchor='left', yanchor='bottom',\r\n",
    "                              text=title,\r\n",
    "                              font=dict(family='Arial',\r\n",
    "                                        size=30,\r\n",
    "                                        color='rgb(37,37,37)'),\r\n",
    "                              showarrow=False))\r\n",
    "# Source\r\n",
    "annotations.append(dict(xref='paper', yref='paper', x=0.5, y=-0.1,\r\n",
    "                              xanchor='center', yanchor='top',\r\n",
    "                              text='Source: PewResearch Center & ' +\r\n",
    "                                   'Storytelling with data',\r\n",
    "                              font=dict(family='Arial',\r\n",
    "                                        size=12,\r\n",
    "                                        color='rgb(150,150,150)'),\r\n",
    "                              showarrow=False))\r\n",
    "\r\n",
    "fig.update_layout(annotations=annotations)\r\n",
    "\r\n",
    "fig.show() \"\"\""
   ],
   "outputs": [],
   "metadata": {}
  },
  {
   "cell_type": "markdown",
   "source": [
    "### Plot gender map"
   ],
   "metadata": {}
  },
  {
   "cell_type": "code",
   "execution_count": null,
   "source": [
    "import matplotlib.pyplot as plt\r\n",
    "import geopandas as gpd\r\n",
    "from geopandas import GeoDataFrame"
   ],
   "outputs": [],
   "metadata": {}
  },
  {
   "cell_type": "code",
   "execution_count": null,
   "source": [
    "\"\"\" map_df = {}\r\n",
    "for year in range(2014,2018):\r\n",
    "    year1=2017 \r\n",
    "    if year==2014: year1=2014\r\n",
    "    fp = f'{dataFolderName}/province_shapes/ProvCM0101{year1}_g/ProvCM0101{year1}_g_WGS84.shp'\r\n",
    "    \r\n",
    "    map_df[f\"map_{year}\"] = gpd.read_file(fp) #reading the file stored in variable fp\r\n",
    "    # print(map_df[f\"map_{year}\"].plot())\r\n",
    "\r\n",
    "# map_df['map_2015']\r\n",
    " \"\"\""
   ],
   "outputs": [],
   "metadata": {}
  },
  {
   "cell_type": "code",
   "execution_count": null,
   "source": [
    "# consider only province data\r\n",
    "df_sex_province = df_sex[df_sex['ITTER107'].str.contains('.{5}')]\r\n",
    "\r\n",
    "df_sex_province_year = {}\r\n",
    "for year in range(2014,2018):\r\n",
    "    temp = df_sex_province.query(f'TIME=={year}')\r\n",
    "    temp_f = temp.query('Sesso==\"maschi\"').set_index('ITTER107').drop('Sesso',axis=1)\r\n",
    "    temp_d = temp.query('Sesso==\"femmine\"').set_index('ITTER107')\r\n",
    "    temp_f['Value'] = [temp_f['Value'][prov]-temp_d['Value'][prov] for prov in temp['ITTER107'].drop_duplicates()]\r\n",
    "    df_sex_province_year[f'group_{year}'] = temp_f\r\n",
    "\r\n",
    "del temp\r\n",
    "del temp_d\r\n",
    "del temp_f\r\n",
    "# df_sex_province_year[\"group2014\"]"
   ],
   "outputs": [],
   "metadata": {}
  },
  {
   "cell_type": "code",
   "execution_count": null,
   "source": [
    "\"\"\" # join for connect ITTER107 to SIGLA\r\n",
    "csv_prov = pd.DataFrame(columns=['sigla','codice'])\r\n",
    "\r\n",
    "fileName = \"province_statistical_codes/Codici-statistici-e-denominazioni-al-01_01_201\"\r\n",
    "for anno in (4,5,6,7):\r\n",
    "    temp = pd.read_csv(\"data/\"+fileName + str(anno)+'.csv',sep=';',encoding='ANSI', na_filter=False)\r\n",
    "    temp = temp[['Sigla automobilistica',temp.columns[-1]]].drop_duplicates()\r\n",
    "    temp = temp.rename(columns={temp.columns[0]:csv_prov.columns[0],temp.columns[1]:csv_prov.columns[1]})\r\n",
    "    csv_prov = csv_prov.append(temp).drop_duplicates()\r\n",
    "    csv_prov.append({'sigla':'MB','codice':'IT108'},ignore_index=True)\r\n",
    "    csv_prov.append({'sigla':'FM','codice':'IT109'},ignore_index=True)\r\n",
    "    csv_prov.append({'sigla':'BT','codice':'IT110'},ignore_index=True) \"\"\""
   ],
   "outputs": [],
   "metadata": {}
  },
  {
   "cell_type": "code",
   "execution_count": null,
   "source": [
    "\"\"\" merged1 = df_sex_province_year[\"group_2017\"].join(csv_prov.set_index(csv_prov.columns[-1]))\r\n",
    "merged1.sort_values(by='sigla')#query('Territorio==\"Fermo\"')\r\n",
    "merged1[merged1.isnull().any(axis=1)].drop_duplicates() \"\"\""
   ],
   "outputs": [],
   "metadata": {}
  },
  {
   "cell_type": "code",
   "execution_count": null,
   "source": [
    "\"\"\" merged = {}\r\n",
    "for year in range(2014,2018):\r\n",
    "    merged[f'merged_{year}'] = df_sex_province_year[f'group_{year}'].set_index('Territorio').join(\r\n",
    "        map_df[f'map_{year}'].set_index('DEN_PROV' if year==2014 else 'DEN_PCM'))\r\n",
    "    if year==2015: print(merged[f'merged_{year}'][merged[f'merged_{year}'].isnull().any(axis=1)].drop_duplicates()) \"\"\""
   ],
   "outputs": [],
   "metadata": {}
  },
  {
   "cell_type": "code",
   "execution_count": null,
   "source": [
    "\"\"\" # set a variable that will call whatever column we want to visualise on the map\r\n",
    "variable = 'TIME'#'Value'\r\n",
    "# set the range for the choropleth\r\n",
    "vmin, vmax = 120, 220\r\n",
    "# create figure and axes for Matplotlib\r\n",
    "fig, ax = plt.subplots(1, figsize=(10, 6))\r\n",
    "\r\n",
    "# for year in range(2014,2018):\r\n",
    "#     merged[f'merged_{year}'] = GeoDataFrame(merged[f'merged_{year}'])\r\n",
    "#     merged[f'merged_{year}'].plot(column=variable, cmap='BuGn', linewidth=0.01, ax=ax, edgecolor='0.8')\r\n",
    "\r\n",
    "merged['merged_2015'] = GeoDataFrame(merged['merged_2015'])\r\n",
    "merged['merged_2015'].plot(column=variable, cmap='hsv', linewidth=1, ax=ax, edgecolor='0.1') \"\"\""
   ],
   "outputs": [],
   "metadata": {}
  }
 ],
 "metadata": {
  "kernelspec": {
   "name": "python3",
   "display_name": "Python 3.9.6 64-bit (windows store)"
  },
  "language_info": {
   "codemirror_mode": {
    "name": "ipython",
    "version": 3
   },
   "file_extension": ".py",
   "mimetype": "text/x-python",
   "name": "python",
   "nbconvert_exporter": "python",
   "pygments_lexer": "ipython3",
   "version": "3.9.6"
  },
  "interpreter": {
   "hash": "0a7bcdce5e7de3fa1d95f97898f0ba64b04cd3f3c86a5acc783c9d14c07e9707"
  }
 },
 "nbformat": 4,
 "nbformat_minor": 4
}